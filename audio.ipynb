{
 "cells": [
  {
   "cell_type": "code",
   "execution_count": 51,
   "id": "c9e9641b",
   "metadata": {},
   "outputs": [],
   "source": [
    "import subprocess\n",
    "from pydub import AudioSegment\n",
    "import math\n",
    "import openai\n",
    "from dotenv import load_dotenv\n",
    "import os\n",
    "import glob"
   ]
  },
  {
   "cell_type": "code",
   "execution_count": 19,
   "id": "365b37b6",
   "metadata": {},
   "outputs": [],
   "source": [
    "def extract_audio_from_video(video_path, audio_path):\n",
    "    command = [\"ffmpeg\", \"-i\",video_path, \"-vn\", \n",
    "    audio_path,]\n",
    "    subprocess.run(command)\n",
    "\n",
    "def cut_audio_in_chunks(audio_path, chunk_size, chunks_folder):\n",
    "    track = AudioSegment.from_mp3(audio_path)\n",
    "    chunk_len = chunk_size * 60 * 1000\n",
    "    chunks = math.ceil(len(track)/chunk_len)\n",
    "    for i in range(chunks):\n",
    "        start_time = i*chunk_len\n",
    "        end_time = (i+1) * chunk_len\n",
    "        chunk = track[start_time:end_time]\n",
    "        chunk.export(f\"{chunks_folder}/chunk_{i}.mp3\", format= \"mp3\")\n",
    "    "
   ]
  },
  {
   "cell_type": "code",
   "execution_count": null,
   "id": "0a3412a4",
   "metadata": {},
   "outputs": [],
   "source": [
    "extract_audio_from_video(\"./files/jocoding_ai_news.mp4\", \"files/audio.mp3\")"
   ]
  },
  {
   "cell_type": "code",
   "execution_count": 21,
   "id": "cf28ecbf",
   "metadata": {},
   "outputs": [],
   "source": [
    "cut_audio_in_chunks(\"./files/audio.mp3\", 10, \"./files/chunks\")"
   ]
  },
  {
   "cell_type": "code",
   "execution_count": null,
   "id": "ef1276be",
   "metadata": {},
   "outputs": [],
   "source": [
    "\n",
    "# .env 파일에서 환경변수 불러오기\n",
    "load_dotenv()\n",
    "\n",
    "# 환경변수에서 API 키 가져오기\n",
    "openai.api_key = os.getenv(\"OPENAI_API_KEY\")\n"
   ]
  },
  {
   "cell_type": "code",
   "execution_count": null,
   "id": "4be1793c",
   "metadata": {},
   "outputs": [],
   "source": [
    "def transcribe_chunks(chunk_folder, destination):\n",
    "    files = glob.glob(f\"{chunk_folder}/*.mp3\")\n",
    "    final_transcript = \"\"\n",
    "    for file in files :\n",
    "        transcript = openai.audio.transcriptions.create(\n",
    "        model=\"whisper-1\",\n",
    "        file=open(file, \"rb\"),\n",
    "        language=\"ko\"\n",
    "        )\n",
    "        final_transcript += transcript.text"
   ]
  },
  {
   "cell_type": "code",
   "execution_count": 54,
   "id": "6411da8f",
   "metadata": {},
   "outputs": [
    {
     "data": {
      "text/plain": [
       "['./files/chunks\\\\chunk_0.mp3',\n",
       " './files/chunks\\\\chunk_1.mp3',\n",
       " './files/chunks\\\\chunk_2.mp3']"
      ]
     },
     "execution_count": 54,
     "metadata": {},
     "output_type": "execute_result"
    }
   ],
   "source": [
    "transcribe_chunks(\"./files/chunks/\", \"...\")"
   ]
  }
 ],
 "metadata": {
  "kernelspec": {
   "display_name": "GPT2",
   "language": "python",
   "name": "python3"
  },
  "language_info": {
   "codemirror_mode": {
    "name": "ipython",
    "version": 3
   },
   "file_extension": ".py",
   "mimetype": "text/x-python",
   "name": "python",
   "nbconvert_exporter": "python",
   "pygments_lexer": "ipython3",
   "version": "3.11.13"
  }
 },
 "nbformat": 4,
 "nbformat_minor": 5
}
