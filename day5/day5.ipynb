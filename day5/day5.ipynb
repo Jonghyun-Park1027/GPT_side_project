{
 "cells": [
  {
   "metadata": {},
   "cell_type": "markdown",
   "source": "# Serialization and Composition",
   "id": "f28febe2a60cd4de"
  },
  {
   "metadata": {
    "jupyter": {
     "is_executing": true
    }
   },
   "cell_type": "code",
   "source": [
    "from langchain_openai import ChatOpenAI\n",
    "from langchain.callbacks import StreamingStdOutCallbackHandler\n",
    "from langchain.prompts import load_prompt\n"
   ],
   "id": "6340eeda0109ffad",
   "outputs": [],
   "execution_count": null
  },
  {
   "metadata": {
    "ExecuteTime": {
     "end_time": "2025-07-06T05:36:02.469572Z",
     "start_time": "2025-07-06T05:36:02.450516Z"
    }
   },
   "cell_type": "code",
   "source": [
    "chat = ChatOpenAI(model_name=\"gpt-4o-2024-08-06\", streaming=True, callbacks=[StreamingStdOutCallbackHandler()])\n",
    "# temperature 등 옵션도 지정 가능"
   ],
   "id": "a169e2b4416005ce",
   "outputs": [],
   "execution_count": 4
  },
  {
   "metadata": {},
   "cell_type": "code",
   "outputs": [],
   "execution_count": null,
   "source": "",
   "id": "89960b3e639a4d6f"
  }
 ],
 "metadata": {
  "kernelspec": {
   "display_name": "Python 3",
   "language": "python",
   "name": "python3"
  },
  "language_info": {
   "codemirror_mode": {
    "name": "ipython",
    "version": 2
   },
   "file_extension": ".py",
   "mimetype": "text/x-python",
   "name": "python",
   "nbconvert_exporter": "python",
   "pygments_lexer": "ipython2",
   "version": "2.7.6"
  }
 },
 "nbformat": 4,
 "nbformat_minor": 5
}
