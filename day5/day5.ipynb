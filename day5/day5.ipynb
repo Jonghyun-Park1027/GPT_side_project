{
 "cells": [
  {
   "metadata": {},
   "cell_type": "markdown",
   "source": "# Serialization and Composition",
   "id": "f28febe2a60cd4de"
  },
  {
   "metadata": {
    "ExecuteTime": {
     "end_time": "2025-07-06T06:10:51.530681Z",
     "start_time": "2025-07-06T06:10:51.527678Z"
    }
   },
   "cell_type": "code",
   "source": [
    "from langchain_openai import ChatOpenAI\n",
    "from langchain.callbacks import StreamingStdOutCallbackHandler\n",
    "from langchain.prompts import load_prompt\n",
    "from langchain_core.prompts import PromptTemplate\n",
    "from langchain_core.prompts.pipeline import PipelinePromptTemplate"
   ],
   "id": "6340eeda0109ffad",
   "outputs": [],
   "execution_count": 23
  },
  {
   "metadata": {
    "ExecuteTime": {
     "end_time": "2025-07-06T05:40:46.378401Z",
     "start_time": "2025-07-06T05:40:46.373175Z"
    }
   },
   "cell_type": "code",
   "source": [
    "import os\n",
    "os.getcwd()\n"
   ],
   "id": "270be497eaa9d2e0",
   "outputs": [
    {
     "data": {
      "text/plain": [
       "'D:\\\\4_study\\\\GPT'"
      ]
     },
     "execution_count": 9,
     "metadata": {},
     "output_type": "execute_result"
    }
   ],
   "execution_count": 9
  },
  {
   "metadata": {
    "ExecuteTime": {
     "end_time": "2025-07-06T06:23:59.194151Z",
     "start_time": "2025-07-06T06:23:59.191147Z"
    }
   },
   "cell_type": "code",
   "source": "os.chdir(\"./day5\")",
   "id": "7484e434da7200f",
   "outputs": [],
   "execution_count": 48
  },
  {
   "metadata": {
    "ExecuteTime": {
     "end_time": "2025-07-06T06:24:03.646202Z",
     "start_time": "2025-07-06T06:24:03.642700Z"
    }
   },
   "cell_type": "code",
   "source": "os.getcwd()",
   "id": "a1c16988f7a96abd",
   "outputs": [
    {
     "data": {
      "text/plain": [
       "'D:\\\\4_study\\\\GPT\\\\day5'"
      ]
     },
     "execution_count": 49,
     "metadata": {},
     "output_type": "execute_result"
    }
   ],
   "execution_count": 49
  },
  {
   "metadata": {
    "ExecuteTime": {
     "end_time": "2025-07-06T06:24:08.378627Z",
     "start_time": "2025-07-06T06:24:08.375242Z"
    }
   },
   "cell_type": "code",
   "source": [
    "prompt = load_prompt(\"./prompt.yaml\")\n",
    "\n"
   ],
   "id": "57e9ff780f0b2791",
   "outputs": [],
   "execution_count": 50
  },
  {
   "metadata": {
    "ExecuteTime": {
     "end_time": "2025-07-06T05:54:26.515154Z",
     "start_time": "2025-07-06T05:54:26.511651Z"
    }
   },
   "cell_type": "code",
   "source": [
    "chat = ChatOpenAI(model_name=\"gpt-4o-2024-08-06\", streaming=True, callbacks=[StreamingStdOutCallbackHandler()])\n",
    "# temperature 등 옵션도 지정 가능"
   ],
   "id": "a169e2b4416005ce",
   "outputs": [],
   "execution_count": 15
  },
  {
   "metadata": {
    "ExecuteTime": {
     "end_time": "2025-07-06T05:54:27.323132Z",
     "start_time": "2025-07-06T05:54:27.319616Z"
    }
   },
   "cell_type": "code",
   "source": "prompt.format(country = \"germany\")",
   "id": "89960b3e639a4d6f",
   "outputs": [
    {
     "data": {
      "text/plain": [
       "'What is the capital of germany'"
      ]
     },
     "execution_count": 16,
     "metadata": {},
     "output_type": "execute_result"
    }
   ],
   "execution_count": 16
  },
  {
   "metadata": {
    "ExecuteTime": {
     "end_time": "2025-07-06T06:11:26.814053Z",
     "start_time": "2025-07-06T06:11:26.810450Z"
    }
   },
   "cell_type": "code",
   "source": [
    "\n",
    "\n",
    "intro = PromptTemplate.from_template(\n",
    "    \"\"\"\n",
    "    You are a role playing assistant.\n",
    "    And you are impersonating a {character}\n",
    "\"\"\"\n",
    ")\n",
    "\n",
    "example = PromptTemplate.from_template(\n",
    "    \"\"\"\n",
    "    This is an example of how you talk:\n",
    "\n",
    "    Human: {example_question}\n",
    "    You: {example_answer}\n",
    "\"\"\"\n",
    ")\n",
    "\n",
    "start = PromptTemplate.from_template(\n",
    "    \"\"\"\n",
    "    Start now!\n",
    "\n",
    "    Human: {question}\n",
    "    You:\n",
    "\"\"\"\n",
    ")\n",
    "\n",
    "final = PromptTemplate.from_template(\n",
    "    \"\"\"\n",
    "    {intro}\n",
    "                                     \n",
    "    {example}\n",
    "                              \n",
    "    {start}\n",
    "\"\"\"\n",
    ")\n"
   ],
   "id": "71cb7f1027292ca9",
   "outputs": [],
   "execution_count": 25
  },
  {
   "metadata": {
    "ExecuteTime": {
     "end_time": "2025-07-06T06:11:27.006031Z",
     "start_time": "2025-07-06T06:11:27.003031Z"
    }
   },
   "cell_type": "code",
   "source": [
    "prompts = [\n",
    "    (\"intro\", intro),\n",
    "    (\"example\", example),\n",
    "    (\"start\",start)\n",
    "]"
   ],
   "id": "f0f26aea21fb02be",
   "outputs": [],
   "execution_count": 26
  },
  {
   "metadata": {
    "ExecuteTime": {
     "end_time": "2025-07-06T06:11:51.183384Z",
     "start_time": "2025-07-06T06:11:51.179286Z"
    }
   },
   "cell_type": "code",
   "source": [
    "full_prompt = PipelinePromptTemplate(final_prompt = final,\n",
    "                                     pipeline_prompts = prompts)"
   ],
   "id": "3f49e59fd522a686",
   "outputs": [],
   "execution_count": 28
  },
  {
   "metadata": {
    "ExecuteTime": {
     "end_time": "2025-07-06T06:15:03.293847Z",
     "start_time": "2025-07-06T06:15:03.290828Z"
    }
   },
   "cell_type": "code",
   "source": "chain = full_prompt | chat",
   "id": "bb596027f9a3f0c5",
   "outputs": [],
   "execution_count": 30
  },
  {
   "metadata": {
    "ExecuteTime": {
     "end_time": "2025-07-06T06:15:33.045376Z",
     "start_time": "2025-07-06T06:15:31.444195Z"
    }
   },
   "cell_type": "code",
   "source": [
    "\n",
    "chain.invoke({\n",
    "        \"character\" : \"Pirate\",\n",
    "    \"example_question\" : \"What is your location?\",\n",
    "    \"example_answer\":\"Arrrg! That is a secret!! argg\",\n",
    "    \"question\" : \"What is your fav food?\"\n",
    "})"
   ],
   "id": "8452afa7fd4d170e",
   "outputs": [
    {
     "name": "stdout",
     "output_type": "stream",
     "text": [
      "Arrrg! Me favorite grub be a hearty serving of salt pork and hardtack, washed down with a mug of grog! Just the kind of fare to keep a pirate's belly full on the high seas, arrr! 🍖🏴‍☠️"
     ]
    },
    {
     "data": {
      "text/plain": [
       "AIMessage(content=\"Arrrg! Me favorite grub be a hearty serving of salt pork and hardtack, washed down with a mug of grog! Just the kind of fare to keep a pirate's belly full on the high seas, arrr! 🍖🏴\\u200d☠️\", additional_kwargs={}, response_metadata={'finish_reason': 'stop', 'model_name': 'gpt-4o-2024-08-06', 'system_fingerprint': 'fp_07871e2ad8', 'service_tier': 'default'}, id='run--0459fee6-4b9a-447e-bcea-70b78ac045ca-0')"
      ]
     },
     "execution_count": 31,
     "metadata": {},
     "output_type": "execute_result"
    }
   ],
   "execution_count": 31
  },
  {
   "metadata": {},
   "cell_type": "markdown",
   "source": "# Caching",
   "id": "cf636f29f78384bb"
  },
  {
   "metadata": {
    "ExecuteTime": {
     "end_time": "2025-07-06T06:22:12.151376Z",
     "start_time": "2025-07-06T06:22:12.146867Z"
    }
   },
   "cell_type": "code",
   "source": [
    "from langchain_openai import ChatOpenAI\n",
    "from langchain.callbacks import StreamingStdOutCallbackHandler\n",
    "from langchain.globals import set_llm_cache, set_debug\n",
    "from langchain.cache import InMemoryCache, SQLiteCache"
   ],
   "id": "f5a64efdbb6c1243",
   "outputs": [],
   "execution_count": 44
  },
  {
   "metadata": {
    "ExecuteTime": {
     "end_time": "2025-07-06T06:24:15.551733Z",
     "start_time": "2025-07-06T06:24:15.506948Z"
    }
   },
   "cell_type": "code",
   "source": [
    "set_llm_cache(SQLiteCache(\"cache.db\"))\n",
    "# set_debug(True)"
   ],
   "id": "928ad4b43b8eb3e",
   "outputs": [],
   "execution_count": 51
  },
  {
   "metadata": {
    "ExecuteTime": {
     "end_time": "2025-07-06T06:24:15.681452Z",
     "start_time": "2025-07-06T06:24:15.677513Z"
    }
   },
   "cell_type": "code",
   "source": [
    "chat = ChatOpenAI(model_name=\"gpt-4o-2024-08-06\",\n",
    "                  # streaming=True, \n",
    "                  # callbacks=[StreamingStdOutCallbackHandler()                          ]\n",
    "                  )\n",
    "# temperature 등 옵션도 지정 가능"
   ],
   "id": "a55f2343be3c7992",
   "outputs": [],
   "execution_count": 52
  },
  {
   "metadata": {
    "ExecuteTime": {
     "end_time": "2025-07-06T06:24:23.212895Z",
     "start_time": "2025-07-06T06:24:15.836648Z"
    }
   },
   "cell_type": "code",
   "source": "chat.invoke(\"How do you make italian pasta\")",
   "id": "934a07fda66c1c24",
   "outputs": [
    {
     "name": "stdout",
     "output_type": "stream",
     "text": [
      "\u001B[32;1m\u001B[1;3m[llm/start]\u001B[0m \u001B[1m[llm:ChatOpenAI] Entering LLM run with input:\n",
      "\u001B[0m{\n",
      "  \"prompts\": [\n",
      "    \"Human: How do you make italian pasta\"\n",
      "  ]\n",
      "}\n",
      "\u001B[36;1m\u001B[1;3m[llm/end]\u001B[0m \u001B[1m[llm:ChatOpenAI] [7.37s] Exiting LLM run with output:\n",
      "\u001B[0m{\n",
      "  \"generations\": [\n",
      "    [\n",
      "      {\n",
      "        \"text\": \"Making Italian pasta from scratch is a rewarding and relatively simple process. Here’s a basic guide to making fresh pasta dough:\\n\\n### Ingredients:\\n- 2 cups (250g) all-purpose flour (or tipo \\\"00\\\" flour for a more authentic texture)\\n- 3 large eggs\\n- A pinch of salt\\n- A tablespoon of olive oil (optional)\\n\\n### Equipment:\\n- Mixing bowl\\n- Fork or dough whisk\\n- Rolling pin or pasta machine\\n- Sharp knife or pasta cutter\\n- Baking sheets\\n- Clean kitchen towel or plastic wrap\\n- Flour for dusting\\n\\n### Instructions:\\n\\n1. **Prepare the Dough:**\\n   - On a clean work surface, pour the flour into a mound. Make a well in the center of the flour and crack the eggs into it. If using a bowl, place the flour in and create a well in the middle.\\n   - Add salt and olive oil to the eggs (if using).\\n   - Using a fork, gently beat the eggs, gradually incorporating the flour starting from the inner rim of the well. Continue until the mixture is too stiff to mix with a fork.\\n\\n2. **Knead the Dough:**\\n   - Bring the dough together with your hands, incorporating the remaining flour.\\n   - Knead the dough by pressing it with the heel of your hand, folding it over, and turning it repeatedly for about 8-10 minutes until it’s smooth and elastic. The dough should be pliable and slightly sticky.\\n   - Wrap the dough in plastic wrap or cover it with a towel and let it rest at room temperature for at least 30 minutes. This allows the gluten to relax, making it easier to roll out.\\n\\n3. **Roll Out the Dough:**\\n   - Divide the rested dough into quarters. Keep the pieces you aren’t currently using covered to prevent them from drying out.\\n   - Dust a working surface and rolling pin (or pasta machine) with flour. Flatten a piece of dough slightly with your hands, then roll it out using a rolling pin or pass it through the pasta machine, starting with the thickest setting.\\n   - Continue rolling it through the machine, gradually reducing the thickness settings, until the pasta reaches your desired thickness. If using a rolling pin, roll from the center outwards, rotating the dough frequently.\\n\\n4. **Cut the Pasta:**\\n   - Once rolled out, dust the pasta sheet lightly with flour to prevent sticking.\\n   - Roll the sheet into a log shape and slice it into strips of your desired width (e.g., fettuccine, tagliatelle).\\n   - Unroll the strips and lay them flat or in small nests on a floured surface or baking sheet.\\n\\n5. **Cook the Pasta:**\\n   - Bring a large pot of salted water to a boil.\\n   - Add the pasta and cook for 2-4 minutes until al dente. Fresh pasta cooks more quickly than dried pasta.\\n   - Drain the pasta and toss it with your favorite sauce or simply with olive oil, Parmesan, and fresh herbs.\\n\\n### Tips:\\n- If the dough feels too dry while kneading, wet your hands lightly and continue to knead. If it's too sticky, incorporate a little more flour as needed.\\n- You can use semolina flour for dusting, which gives the pasta a nice texture and prevents sticking.\\n- Experiment with adding spinach, tomato paste, or herbs to the dough for flavored and colored variations.\\n\\nEnjoy your homemade Italian pasta!\",\n",
      "        \"generation_info\": {\n",
      "          \"finish_reason\": \"stop\",\n",
      "          \"logprobs\": null\n",
      "        },\n",
      "        \"type\": \"ChatGeneration\",\n",
      "        \"message\": {\n",
      "          \"lc\": 1,\n",
      "          \"type\": \"constructor\",\n",
      "          \"id\": [\n",
      "            \"langchain\",\n",
      "            \"schema\",\n",
      "            \"messages\",\n",
      "            \"AIMessage\"\n",
      "          ],\n",
      "          \"kwargs\": {\n",
      "            \"content\": \"Making Italian pasta from scratch is a rewarding and relatively simple process. Here’s a basic guide to making fresh pasta dough:\\n\\n### Ingredients:\\n- 2 cups (250g) all-purpose flour (or tipo \\\"00\\\" flour for a more authentic texture)\\n- 3 large eggs\\n- A pinch of salt\\n- A tablespoon of olive oil (optional)\\n\\n### Equipment:\\n- Mixing bowl\\n- Fork or dough whisk\\n- Rolling pin or pasta machine\\n- Sharp knife or pasta cutter\\n- Baking sheets\\n- Clean kitchen towel or plastic wrap\\n- Flour for dusting\\n\\n### Instructions:\\n\\n1. **Prepare the Dough:**\\n   - On a clean work surface, pour the flour into a mound. Make a well in the center of the flour and crack the eggs into it. If using a bowl, place the flour in and create a well in the middle.\\n   - Add salt and olive oil to the eggs (if using).\\n   - Using a fork, gently beat the eggs, gradually incorporating the flour starting from the inner rim of the well. Continue until the mixture is too stiff to mix with a fork.\\n\\n2. **Knead the Dough:**\\n   - Bring the dough together with your hands, incorporating the remaining flour.\\n   - Knead the dough by pressing it with the heel of your hand, folding it over, and turning it repeatedly for about 8-10 minutes until it’s smooth and elastic. The dough should be pliable and slightly sticky.\\n   - Wrap the dough in plastic wrap or cover it with a towel and let it rest at room temperature for at least 30 minutes. This allows the gluten to relax, making it easier to roll out.\\n\\n3. **Roll Out the Dough:**\\n   - Divide the rested dough into quarters. Keep the pieces you aren’t currently using covered to prevent them from drying out.\\n   - Dust a working surface and rolling pin (or pasta machine) with flour. Flatten a piece of dough slightly with your hands, then roll it out using a rolling pin or pass it through the pasta machine, starting with the thickest setting.\\n   - Continue rolling it through the machine, gradually reducing the thickness settings, until the pasta reaches your desired thickness. If using a rolling pin, roll from the center outwards, rotating the dough frequently.\\n\\n4. **Cut the Pasta:**\\n   - Once rolled out, dust the pasta sheet lightly with flour to prevent sticking.\\n   - Roll the sheet into a log shape and slice it into strips of your desired width (e.g., fettuccine, tagliatelle).\\n   - Unroll the strips and lay them flat or in small nests on a floured surface or baking sheet.\\n\\n5. **Cook the Pasta:**\\n   - Bring a large pot of salted water to a boil.\\n   - Add the pasta and cook for 2-4 minutes until al dente. Fresh pasta cooks more quickly than dried pasta.\\n   - Drain the pasta and toss it with your favorite sauce or simply with olive oil, Parmesan, and fresh herbs.\\n\\n### Tips:\\n- If the dough feels too dry while kneading, wet your hands lightly and continue to knead. If it's too sticky, incorporate a little more flour as needed.\\n- You can use semolina flour for dusting, which gives the pasta a nice texture and prevents sticking.\\n- Experiment with adding spinach, tomato paste, or herbs to the dough for flavored and colored variations.\\n\\nEnjoy your homemade Italian pasta!\",\n",
      "            \"additional_kwargs\": {\n",
      "              \"refusal\": null\n",
      "            },\n",
      "            \"response_metadata\": {\n",
      "              \"token_usage\": {\n",
      "                \"completion_tokens\": 704,\n",
      "                \"prompt_tokens\": 13,\n",
      "                \"total_tokens\": 717,\n",
      "                \"completion_tokens_details\": {\n",
      "                  \"accepted_prediction_tokens\": 0,\n",
      "                  \"audio_tokens\": 0,\n",
      "                  \"reasoning_tokens\": 0,\n",
      "                  \"rejected_prediction_tokens\": 0\n",
      "                },\n",
      "                \"prompt_tokens_details\": {\n",
      "                  \"audio_tokens\": 0,\n",
      "                  \"cached_tokens\": 0\n",
      "                }\n",
      "              },\n",
      "              \"model_name\": \"gpt-4o-2024-08-06\",\n",
      "              \"system_fingerprint\": \"fp_07871e2ad8\",\n",
      "              \"id\": \"chatcmpl-BqD5LVWZrdyGBoVCJIkEAETvWYWd0\",\n",
      "              \"service_tier\": \"default\",\n",
      "              \"finish_reason\": \"stop\",\n",
      "              \"logprobs\": null\n",
      "            },\n",
      "            \"type\": \"ai\",\n",
      "            \"id\": \"run--fa4a29ce-50cf-4b5d-a3a5-078d8612941d-0\",\n",
      "            \"usage_metadata\": {\n",
      "              \"input_tokens\": 13,\n",
      "              \"output_tokens\": 704,\n",
      "              \"total_tokens\": 717,\n",
      "              \"input_token_details\": {\n",
      "                \"audio\": 0,\n",
      "                \"cache_read\": 0\n",
      "              },\n",
      "              \"output_token_details\": {\n",
      "                \"audio\": 0,\n",
      "                \"reasoning\": 0\n",
      "              }\n",
      "            },\n",
      "            \"tool_calls\": [],\n",
      "            \"invalid_tool_calls\": []\n",
      "          }\n",
      "        }\n",
      "      }\n",
      "    ]\n",
      "  ],\n",
      "  \"llm_output\": {\n",
      "    \"token_usage\": {\n",
      "      \"completion_tokens\": 704,\n",
      "      \"prompt_tokens\": 13,\n",
      "      \"total_tokens\": 717,\n",
      "      \"completion_tokens_details\": {\n",
      "        \"accepted_prediction_tokens\": 0,\n",
      "        \"audio_tokens\": 0,\n",
      "        \"reasoning_tokens\": 0,\n",
      "        \"rejected_prediction_tokens\": 0\n",
      "      },\n",
      "      \"prompt_tokens_details\": {\n",
      "        \"audio_tokens\": 0,\n",
      "        \"cached_tokens\": 0\n",
      "      }\n",
      "    },\n",
      "    \"model_name\": \"gpt-4o-2024-08-06\",\n",
      "    \"system_fingerprint\": \"fp_07871e2ad8\",\n",
      "    \"id\": \"chatcmpl-BqD5LVWZrdyGBoVCJIkEAETvWYWd0\",\n",
      "    \"service_tier\": \"default\"\n",
      "  },\n",
      "  \"run\": null,\n",
      "  \"type\": \"LLMResult\"\n",
      "}\n"
     ]
    },
    {
     "data": {
      "text/plain": [
       "AIMessage(content='Making Italian pasta from scratch is a rewarding and relatively simple process. Here’s a basic guide to making fresh pasta dough:\\n\\n### Ingredients:\\n- 2 cups (250g) all-purpose flour (or tipo \"00\" flour for a more authentic texture)\\n- 3 large eggs\\n- A pinch of salt\\n- A tablespoon of olive oil (optional)\\n\\n### Equipment:\\n- Mixing bowl\\n- Fork or dough whisk\\n- Rolling pin or pasta machine\\n- Sharp knife or pasta cutter\\n- Baking sheets\\n- Clean kitchen towel or plastic wrap\\n- Flour for dusting\\n\\n### Instructions:\\n\\n1. **Prepare the Dough:**\\n   - On a clean work surface, pour the flour into a mound. Make a well in the center of the flour and crack the eggs into it. If using a bowl, place the flour in and create a well in the middle.\\n   - Add salt and olive oil to the eggs (if using).\\n   - Using a fork, gently beat the eggs, gradually incorporating the flour starting from the inner rim of the well. Continue until the mixture is too stiff to mix with a fork.\\n\\n2. **Knead the Dough:**\\n   - Bring the dough together with your hands, incorporating the remaining flour.\\n   - Knead the dough by pressing it with the heel of your hand, folding it over, and turning it repeatedly for about 8-10 minutes until it’s smooth and elastic. The dough should be pliable and slightly sticky.\\n   - Wrap the dough in plastic wrap or cover it with a towel and let it rest at room temperature for at least 30 minutes. This allows the gluten to relax, making it easier to roll out.\\n\\n3. **Roll Out the Dough:**\\n   - Divide the rested dough into quarters. Keep the pieces you aren’t currently using covered to prevent them from drying out.\\n   - Dust a working surface and rolling pin (or pasta machine) with flour. Flatten a piece of dough slightly with your hands, then roll it out using a rolling pin or pass it through the pasta machine, starting with the thickest setting.\\n   - Continue rolling it through the machine, gradually reducing the thickness settings, until the pasta reaches your desired thickness. If using a rolling pin, roll from the center outwards, rotating the dough frequently.\\n\\n4. **Cut the Pasta:**\\n   - Once rolled out, dust the pasta sheet lightly with flour to prevent sticking.\\n   - Roll the sheet into a log shape and slice it into strips of your desired width (e.g., fettuccine, tagliatelle).\\n   - Unroll the strips and lay them flat or in small nests on a floured surface or baking sheet.\\n\\n5. **Cook the Pasta:**\\n   - Bring a large pot of salted water to a boil.\\n   - Add the pasta and cook for 2-4 minutes until al dente. Fresh pasta cooks more quickly than dried pasta.\\n   - Drain the pasta and toss it with your favorite sauce or simply with olive oil, Parmesan, and fresh herbs.\\n\\n### Tips:\\n- If the dough feels too dry while kneading, wet your hands lightly and continue to knead. If it\\'s too sticky, incorporate a little more flour as needed.\\n- You can use semolina flour for dusting, which gives the pasta a nice texture and prevents sticking.\\n- Experiment with adding spinach, tomato paste, or herbs to the dough for flavored and colored variations.\\n\\nEnjoy your homemade Italian pasta!', additional_kwargs={'refusal': None}, response_metadata={'token_usage': {'completion_tokens': 704, 'prompt_tokens': 13, 'total_tokens': 717, 'completion_tokens_details': {'accepted_prediction_tokens': 0, 'audio_tokens': 0, 'reasoning_tokens': 0, 'rejected_prediction_tokens': 0}, 'prompt_tokens_details': {'audio_tokens': 0, 'cached_tokens': 0}}, 'model_name': 'gpt-4o-2024-08-06', 'system_fingerprint': 'fp_07871e2ad8', 'id': 'chatcmpl-BqD5LVWZrdyGBoVCJIkEAETvWYWd0', 'service_tier': 'default', 'finish_reason': 'stop', 'logprobs': None}, id='run--fa4a29ce-50cf-4b5d-a3a5-078d8612941d-0', usage_metadata={'input_tokens': 13, 'output_tokens': 704, 'total_tokens': 717, 'input_token_details': {'audio': 0, 'cache_read': 0}, 'output_token_details': {'audio': 0, 'reasoning': 0}})"
      ]
     },
     "execution_count": 53,
     "metadata": {},
     "output_type": "execute_result"
    }
   ],
   "execution_count": 53
  },
  {
   "metadata": {
    "ExecuteTime": {
     "end_time": "2025-07-06T06:24:25.439806Z",
     "start_time": "2025-07-06T06:24:25.432298Z"
    }
   },
   "cell_type": "code",
   "source": "chat.invoke(\"How do you make italian pasta\")",
   "id": "c4743fb1a66c83aa",
   "outputs": [
    {
     "name": "stdout",
     "output_type": "stream",
     "text": [
      "\u001B[32;1m\u001B[1;3m[llm/start]\u001B[0m \u001B[1m[llm:ChatOpenAI] Entering LLM run with input:\n",
      "\u001B[0m{\n",
      "  \"prompts\": [\n",
      "    \"Human: How do you make italian pasta\"\n",
      "  ]\n",
      "}\n",
      "\u001B[36;1m\u001B[1;3m[llm/end]\u001B[0m \u001B[1m[llm:ChatOpenAI] [3ms] Exiting LLM run with output:\n",
      "\u001B[0m{\n",
      "  \"generations\": [\n",
      "    [\n",
      "      {\n",
      "        \"text\": \"Making Italian pasta from scratch is a rewarding and relatively simple process. Here’s a basic guide to making fresh pasta dough:\\n\\n### Ingredients:\\n- 2 cups (250g) all-purpose flour (or tipo \\\"00\\\" flour for a more authentic texture)\\n- 3 large eggs\\n- A pinch of salt\\n- A tablespoon of olive oil (optional)\\n\\n### Equipment:\\n- Mixing bowl\\n- Fork or dough whisk\\n- Rolling pin or pasta machine\\n- Sharp knife or pasta cutter\\n- Baking sheets\\n- Clean kitchen towel or plastic wrap\\n- Flour for dusting\\n\\n### Instructions:\\n\\n1. **Prepare the Dough:**\\n   - On a clean work surface, pour the flour into a mound. Make a well in the center of the flour and crack the eggs into it. If using a bowl, place the flour in and create a well in the middle.\\n   - Add salt and olive oil to the eggs (if using).\\n   - Using a fork, gently beat the eggs, gradually incorporating the flour starting from the inner rim of the well. Continue until the mixture is too stiff to mix with a fork.\\n\\n2. **Knead the Dough:**\\n   - Bring the dough together with your hands, incorporating the remaining flour.\\n   - Knead the dough by pressing it with the heel of your hand, folding it over, and turning it repeatedly for about 8-10 minutes until it’s smooth and elastic. The dough should be pliable and slightly sticky.\\n   - Wrap the dough in plastic wrap or cover it with a towel and let it rest at room temperature for at least 30 minutes. This allows the gluten to relax, making it easier to roll out.\\n\\n3. **Roll Out the Dough:**\\n   - Divide the rested dough into quarters. Keep the pieces you aren’t currently using covered to prevent them from drying out.\\n   - Dust a working surface and rolling pin (or pasta machine) with flour. Flatten a piece of dough slightly with your hands, then roll it out using a rolling pin or pass it through the pasta machine, starting with the thickest setting.\\n   - Continue rolling it through the machine, gradually reducing the thickness settings, until the pasta reaches your desired thickness. If using a rolling pin, roll from the center outwards, rotating the dough frequently.\\n\\n4. **Cut the Pasta:**\\n   - Once rolled out, dust the pasta sheet lightly with flour to prevent sticking.\\n   - Roll the sheet into a log shape and slice it into strips of your desired width (e.g., fettuccine, tagliatelle).\\n   - Unroll the strips and lay them flat or in small nests on a floured surface or baking sheet.\\n\\n5. **Cook the Pasta:**\\n   - Bring a large pot of salted water to a boil.\\n   - Add the pasta and cook for 2-4 minutes until al dente. Fresh pasta cooks more quickly than dried pasta.\\n   - Drain the pasta and toss it with your favorite sauce or simply with olive oil, Parmesan, and fresh herbs.\\n\\n### Tips:\\n- If the dough feels too dry while kneading, wet your hands lightly and continue to knead. If it's too sticky, incorporate a little more flour as needed.\\n- You can use semolina flour for dusting, which gives the pasta a nice texture and prevents sticking.\\n- Experiment with adding spinach, tomato paste, or herbs to the dough for flavored and colored variations.\\n\\nEnjoy your homemade Italian pasta!\",\n",
      "        \"generation_info\": {\n",
      "          \"finish_reason\": \"stop\",\n",
      "          \"logprobs\": null\n",
      "        },\n",
      "        \"type\": \"ChatGeneration\",\n",
      "        \"message\": {\n",
      "          \"lc\": 1,\n",
      "          \"type\": \"constructor\",\n",
      "          \"id\": [\n",
      "            \"langchain\",\n",
      "            \"schema\",\n",
      "            \"messages\",\n",
      "            \"AIMessage\"\n",
      "          ],\n",
      "          \"kwargs\": {\n",
      "            \"content\": \"Making Italian pasta from scratch is a rewarding and relatively simple process. Here’s a basic guide to making fresh pasta dough:\\n\\n### Ingredients:\\n- 2 cups (250g) all-purpose flour (or tipo \\\"00\\\" flour for a more authentic texture)\\n- 3 large eggs\\n- A pinch of salt\\n- A tablespoon of olive oil (optional)\\n\\n### Equipment:\\n- Mixing bowl\\n- Fork or dough whisk\\n- Rolling pin or pasta machine\\n- Sharp knife or pasta cutter\\n- Baking sheets\\n- Clean kitchen towel or plastic wrap\\n- Flour for dusting\\n\\n### Instructions:\\n\\n1. **Prepare the Dough:**\\n   - On a clean work surface, pour the flour into a mound. Make a well in the center of the flour and crack the eggs into it. If using a bowl, place the flour in and create a well in the middle.\\n   - Add salt and olive oil to the eggs (if using).\\n   - Using a fork, gently beat the eggs, gradually incorporating the flour starting from the inner rim of the well. Continue until the mixture is too stiff to mix with a fork.\\n\\n2. **Knead the Dough:**\\n   - Bring the dough together with your hands, incorporating the remaining flour.\\n   - Knead the dough by pressing it with the heel of your hand, folding it over, and turning it repeatedly for about 8-10 minutes until it’s smooth and elastic. The dough should be pliable and slightly sticky.\\n   - Wrap the dough in plastic wrap or cover it with a towel and let it rest at room temperature for at least 30 minutes. This allows the gluten to relax, making it easier to roll out.\\n\\n3. **Roll Out the Dough:**\\n   - Divide the rested dough into quarters. Keep the pieces you aren’t currently using covered to prevent them from drying out.\\n   - Dust a working surface and rolling pin (or pasta machine) with flour. Flatten a piece of dough slightly with your hands, then roll it out using a rolling pin or pass it through the pasta machine, starting with the thickest setting.\\n   - Continue rolling it through the machine, gradually reducing the thickness settings, until the pasta reaches your desired thickness. If using a rolling pin, roll from the center outwards, rotating the dough frequently.\\n\\n4. **Cut the Pasta:**\\n   - Once rolled out, dust the pasta sheet lightly with flour to prevent sticking.\\n   - Roll the sheet into a log shape and slice it into strips of your desired width (e.g., fettuccine, tagliatelle).\\n   - Unroll the strips and lay them flat or in small nests on a floured surface or baking sheet.\\n\\n5. **Cook the Pasta:**\\n   - Bring a large pot of salted water to a boil.\\n   - Add the pasta and cook for 2-4 minutes until al dente. Fresh pasta cooks more quickly than dried pasta.\\n   - Drain the pasta and toss it with your favorite sauce or simply with olive oil, Parmesan, and fresh herbs.\\n\\n### Tips:\\n- If the dough feels too dry while kneading, wet your hands lightly and continue to knead. If it's too sticky, incorporate a little more flour as needed.\\n- You can use semolina flour for dusting, which gives the pasta a nice texture and prevents sticking.\\n- Experiment with adding spinach, tomato paste, or herbs to the dough for flavored and colored variations.\\n\\nEnjoy your homemade Italian pasta!\",\n",
      "            \"additional_kwargs\": {\n",
      "              \"refusal\": null\n",
      "            },\n",
      "            \"response_metadata\": {\n",
      "              \"token_usage\": {\n",
      "                \"completion_tokens\": 704,\n",
      "                \"prompt_tokens\": 13,\n",
      "                \"total_tokens\": 717,\n",
      "                \"completion_tokens_details\": {\n",
      "                  \"accepted_prediction_tokens\": 0,\n",
      "                  \"audio_tokens\": 0,\n",
      "                  \"reasoning_tokens\": 0,\n",
      "                  \"rejected_prediction_tokens\": 0\n",
      "                },\n",
      "                \"prompt_tokens_details\": {\n",
      "                  \"audio_tokens\": 0,\n",
      "                  \"cached_tokens\": 0\n",
      "                }\n",
      "              },\n",
      "              \"model_name\": \"gpt-4o-2024-08-06\",\n",
      "              \"system_fingerprint\": \"fp_07871e2ad8\",\n",
      "              \"id\": \"chatcmpl-BqD5LVWZrdyGBoVCJIkEAETvWYWd0\",\n",
      "              \"service_tier\": \"default\",\n",
      "              \"finish_reason\": \"stop\",\n",
      "              \"logprobs\": null\n",
      "            },\n",
      "            \"type\": \"ai\",\n",
      "            \"id\": \"run--fa4a29ce-50cf-4b5d-a3a5-078d8612941d-0\",\n",
      "            \"usage_metadata\": {\n",
      "              \"input_tokens\": 13,\n",
      "              \"output_tokens\": 704,\n",
      "              \"total_tokens\": 717,\n",
      "              \"input_token_details\": {\n",
      "                \"audio\": 0,\n",
      "                \"cache_read\": 0\n",
      "              },\n",
      "              \"output_token_details\": {\n",
      "                \"audio\": 0,\n",
      "                \"reasoning\": 0\n",
      "              }\n",
      "            },\n",
      "            \"tool_calls\": [],\n",
      "            \"invalid_tool_calls\": []\n",
      "          }\n",
      "        }\n",
      "      }\n",
      "    ]\n",
      "  ],\n",
      "  \"llm_output\": null,\n",
      "  \"run\": null,\n",
      "  \"type\": \"LLMResult\"\n",
      "}\n"
     ]
    },
    {
     "data": {
      "text/plain": [
       "AIMessage(content='Making Italian pasta from scratch is a rewarding and relatively simple process. Here’s a basic guide to making fresh pasta dough:\\n\\n### Ingredients:\\n- 2 cups (250g) all-purpose flour (or tipo \"00\" flour for a more authentic texture)\\n- 3 large eggs\\n- A pinch of salt\\n- A tablespoon of olive oil (optional)\\n\\n### Equipment:\\n- Mixing bowl\\n- Fork or dough whisk\\n- Rolling pin or pasta machine\\n- Sharp knife or pasta cutter\\n- Baking sheets\\n- Clean kitchen towel or plastic wrap\\n- Flour for dusting\\n\\n### Instructions:\\n\\n1. **Prepare the Dough:**\\n   - On a clean work surface, pour the flour into a mound. Make a well in the center of the flour and crack the eggs into it. If using a bowl, place the flour in and create a well in the middle.\\n   - Add salt and olive oil to the eggs (if using).\\n   - Using a fork, gently beat the eggs, gradually incorporating the flour starting from the inner rim of the well. Continue until the mixture is too stiff to mix with a fork.\\n\\n2. **Knead the Dough:**\\n   - Bring the dough together with your hands, incorporating the remaining flour.\\n   - Knead the dough by pressing it with the heel of your hand, folding it over, and turning it repeatedly for about 8-10 minutes until it’s smooth and elastic. The dough should be pliable and slightly sticky.\\n   - Wrap the dough in plastic wrap or cover it with a towel and let it rest at room temperature for at least 30 minutes. This allows the gluten to relax, making it easier to roll out.\\n\\n3. **Roll Out the Dough:**\\n   - Divide the rested dough into quarters. Keep the pieces you aren’t currently using covered to prevent them from drying out.\\n   - Dust a working surface and rolling pin (or pasta machine) with flour. Flatten a piece of dough slightly with your hands, then roll it out using a rolling pin or pass it through the pasta machine, starting with the thickest setting.\\n   - Continue rolling it through the machine, gradually reducing the thickness settings, until the pasta reaches your desired thickness. If using a rolling pin, roll from the center outwards, rotating the dough frequently.\\n\\n4. **Cut the Pasta:**\\n   - Once rolled out, dust the pasta sheet lightly with flour to prevent sticking.\\n   - Roll the sheet into a log shape and slice it into strips of your desired width (e.g., fettuccine, tagliatelle).\\n   - Unroll the strips and lay them flat or in small nests on a floured surface or baking sheet.\\n\\n5. **Cook the Pasta:**\\n   - Bring a large pot of salted water to a boil.\\n   - Add the pasta and cook for 2-4 minutes until al dente. Fresh pasta cooks more quickly than dried pasta.\\n   - Drain the pasta and toss it with your favorite sauce or simply with olive oil, Parmesan, and fresh herbs.\\n\\n### Tips:\\n- If the dough feels too dry while kneading, wet your hands lightly and continue to knead. If it\\'s too sticky, incorporate a little more flour as needed.\\n- You can use semolina flour for dusting, which gives the pasta a nice texture and prevents sticking.\\n- Experiment with adding spinach, tomato paste, or herbs to the dough for flavored and colored variations.\\n\\nEnjoy your homemade Italian pasta!', additional_kwargs={'refusal': None}, response_metadata={'token_usage': {'completion_tokens': 704, 'prompt_tokens': 13, 'total_tokens': 717, 'completion_tokens_details': {'accepted_prediction_tokens': 0, 'audio_tokens': 0, 'reasoning_tokens': 0, 'rejected_prediction_tokens': 0}, 'prompt_tokens_details': {'audio_tokens': 0, 'cached_tokens': 0}}, 'model_name': 'gpt-4o-2024-08-06', 'system_fingerprint': 'fp_07871e2ad8', 'id': 'chatcmpl-BqD5LVWZrdyGBoVCJIkEAETvWYWd0', 'service_tier': 'default', 'finish_reason': 'stop', 'logprobs': None}, id='run--fa4a29ce-50cf-4b5d-a3a5-078d8612941d-0', usage_metadata={'input_tokens': 13, 'output_tokens': 704, 'total_tokens': 717, 'input_token_details': {'audio': 0, 'cache_read': 0}, 'output_token_details': {'audio': 0, 'reasoning': 0}})"
      ]
     },
     "execution_count": 54,
     "metadata": {},
     "output_type": "execute_result"
    }
   ],
   "execution_count": 54
  },
  {
   "metadata": {},
   "cell_type": "markdown",
   "source": "# Serialization",
   "id": "712d6f29081b4814"
  },
  {
   "metadata": {
    "ExecuteTime": {
     "end_time": "2025-07-06T06:30:35.420793Z",
     "start_time": "2025-07-06T06:30:35.417286Z"
    }
   },
   "cell_type": "code",
   "source": [
    "from langchain_openai import ChatOpenAI\n",
    "from langchain.callbacks import get_openai_callback"
   ],
   "id": "2bb67b92093d88d",
   "outputs": [],
   "execution_count": 58
  },
  {
   "metadata": {
    "ExecuteTime": {
     "end_time": "2025-07-06T06:30:35.604818Z",
     "start_time": "2025-07-06T06:30:35.601478Z"
    }
   },
   "cell_type": "code",
   "source": [
    "chat = ChatOpenAI(model_name=\"gpt-4o-2024-08-06\",\n",
    "                  # streaming=True, \n",
    "                  # callbacks=[StreamingStdOutCallbackHandler()                          ]\n",
    "                  )\n",
    "# temperature 등 옵션도 지정 가능"
   ],
   "id": "24d69a74d630335d",
   "outputs": [],
   "execution_count": 59
  },
  {
   "metadata": {
    "ExecuteTime": {
     "end_time": "2025-07-06T06:30:35.814413Z",
     "start_time": "2025-07-06T06:30:35.792826Z"
    }
   },
   "cell_type": "code",
   "source": [
    "with get_openai_callback as usage:\n",
    "    chat.invoke(\"What is the recipe for soju\")\n",
    "    print(usage)"
   ],
   "id": "495781be216db437",
   "outputs": [
    {
     "ename": "TypeError",
     "evalue": "'function' object does not support the context manager protocol",
     "output_type": "error",
     "traceback": [
      "\u001B[31m---------------------------------------------------------------------------\u001B[39m",
      "\u001B[31mTypeError\u001B[39m                                 Traceback (most recent call last)",
      "\u001B[36mCell\u001B[39m\u001B[36m \u001B[39m\u001B[32mIn[60]\u001B[39m\u001B[32m, line 1\u001B[39m\n\u001B[32m----> \u001B[39m\u001B[32m1\u001B[39m \u001B[38;5;28;01mwith\u001B[39;00m get_openai_callback \u001B[38;5;28;01mas\u001B[39;00m usage:\n\u001B[32m      2\u001B[39m     chat.invoke(\u001B[33m\"\u001B[39m\u001B[33mWhat is the recipe for soju\u001B[39m\u001B[33m\"\u001B[39m)\n\u001B[32m      3\u001B[39m     \u001B[38;5;28mprint\u001B[39m(usage)\n",
      "\u001B[31mTypeError\u001B[39m: 'function' object does not support the context manager protocol"
     ]
    }
   ],
   "execution_count": 60
  },
  {
   "metadata": {},
   "cell_type": "code",
   "outputs": [],
   "execution_count": null,
   "source": "",
   "id": "1cbf3104dcab0791"
  }
 ],
 "metadata": {
  "kernelspec": {
   "display_name": "Python 3",
   "language": "python",
   "name": "python3"
  },
  "language_info": {
   "codemirror_mode": {
    "name": "ipython",
    "version": 2
   },
   "file_extension": ".py",
   "mimetype": "text/x-python",
   "name": "python",
   "nbconvert_exporter": "python",
   "pygments_lexer": "ipython2",
   "version": "2.7.6"
  }
 },
 "nbformat": 4,
 "nbformat_minor": 5
}
