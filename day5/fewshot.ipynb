{
 "cells": [
  {
   "cell_type": "code",
   "id": "initial_id",
   "metadata": {
    "collapsed": true,
    "ExecuteTime": {
     "end_time": "2025-07-06T02:11:15.994116Z",
     "start_time": "2025-07-06T02:11:15.990415Z"
    }
   },
   "source": [
    "from typing import Any\n",
    "\n",
    "from attr.validators import max_len\n",
    "from langchain.prompts.example_selector import LengthBasedExampleSelector\n",
    "from langchain.prompts import PromptTemplate\n",
    "from langchain_openai import ChatOpenAI\n",
    "from langchain.prompts.few_shot import FewShotPromptTemplate\n",
    "from langchain.callbacks import StreamingStdOutCallbackHandler\n",
    "from langchain.prompts.example_selector.base import BaseExampleSelector\n"
   ],
   "outputs": [],
   "execution_count": 70
  },
  {
   "metadata": {},
   "cell_type": "code",
   "outputs": [],
   "execution_count": null,
   "source": "",
   "id": "8c19c5927580cacc"
  },
  {
   "metadata": {
    "ExecuteTime": {
     "end_time": "2025-07-06T01:21:10.484133Z",
     "start_time": "2025-07-06T01:21:10.480311Z"
    }
   },
   "cell_type": "code",
   "source": [
    "chat = ChatOpenAI(model_name=\"gpt-4o-2024-08-06\", streaming=True, callbacks=[StreamingStdOutCallbackHandler()])\n",
    "# temperature 등 옵션도 지정 가능"
   ],
   "id": "b5a4b005c43b2d16",
   "outputs": [],
   "execution_count": 26
  },
  {
   "metadata": {
    "ExecuteTime": {
     "end_time": "2025-07-06T01:21:10.662712Z",
     "start_time": "2025-07-06T01:21:10.659320Z"
    }
   },
   "cell_type": "code",
   "source": [
    "examples = [\n",
    "\n",
    "    {\n",
    "        \"question\": \"What do you know about France\",\n",
    "        \"answer\":\n",
    "            \"\"\"Here is what I know:,\n",
    "            Capital: Paris,\n",
    "            Language: French,\n",
    "            Food: Wine and Cheese,\n",
    "            Currency: Euro,\"\"\"\n",
    "\n",
    "    },\n",
    "    {\n",
    "        \"question\": \"What do you know about Italy\",\n",
    "        \"answer\":\n",
    "            \"\"\"I know this:,\n",
    "            Capital: Rome,\n",
    "            Language: Italian,\n",
    "            Food: Pizza and Pasta,\n",
    "            Currency: Euro\"\"\"\n",
    "\n",
    "    },\n",
    "    {\n",
    "        \"question\": \"What do you know about Greece\",\n",
    "        \"answer\":\n",
    "            \"\"\"\n",
    "        I know this:,\n",
    "        Capital: Athens,\n",
    "        Language: Greek,\n",
    "        Food: Souvlaki and Feta Cheese,\n",
    "        Currency: Euro,\"\"\"\n",
    "\n",
    "    }\n",
    "]"
   ],
   "id": "8bfbb569ef0450ee",
   "outputs": [],
   "execution_count": 27
  },
  {
   "metadata": {
    "ExecuteTime": {
     "end_time": "2025-07-06T01:39:54.453691Z",
     "start_time": "2025-07-06T01:39:54.449693Z"
    }
   },
   "cell_type": "code",
   "source": [
    "class RandomExampleSelector(BaseExampleSelector):\n",
    "    def __init__(self, examples):\n",
    "        self.examples = examples\n",
    "    def add_example(self, example):\n",
    "        self.examples.append(example)\n",
    "    def select_examples(self, input_variables) :\n",
    "        from random import choice\n",
    "        return [choice(self.examples)]"
   ],
   "id": "6ff75c0698f421e8",
   "outputs": [],
   "execution_count": 62
  },
  {
   "metadata": {
    "ExecuteTime": {
     "end_time": "2025-07-06T01:39:54.978411Z",
     "start_time": "2025-07-06T01:39:54.975330Z"
    }
   },
   "cell_type": "code",
   "source": [
    "example_prompt = PromptTemplate.from_template(\n",
    "    (\"Human:{question}\\nAI:{answer}\")\n",
    ")"
   ],
   "id": "94a6c6374c6f9b23",
   "outputs": [],
   "execution_count": 63
  },
  {
   "metadata": {
    "ExecuteTime": {
     "end_time": "2025-07-06T01:39:55.770955Z",
     "start_time": "2025-07-06T01:39:55.768616Z"
    }
   },
   "cell_type": "code",
   "source": [
    "example_selector = RandomExampleSelector(\n",
    "    examples=examples,\n",
    "    \n",
    ")"
   ],
   "id": "b243ad39e15e8197",
   "outputs": [],
   "execution_count": 64
  },
  {
   "metadata": {
    "ExecuteTime": {
     "end_time": "2025-07-06T01:39:57.310416Z",
     "start_time": "2025-07-06T01:39:57.306398Z"
    }
   },
   "cell_type": "code",
   "source": [
    "prompt = FewShotPromptTemplate(\n",
    "    example_prompt=example_prompt,\n",
    "    example_selector=example_selector,\n",
    "    suffix=\"Human: What do you know about {country}\",\n",
    "    input_variables=[\"country\"]\n",
    ")"
   ],
   "id": "f57a8f651098c3ab",
   "outputs": [],
   "execution_count": 65
  },
  {
   "metadata": {
    "ExecuteTime": {
     "end_time": "2025-07-06T01:40:02.064488Z",
     "start_time": "2025-07-06T01:40:02.060406Z"
    }
   },
   "cell_type": "code",
   "source": "prompt.format(country=\"Brzil\")",
   "id": "824d4883fc5db60a",
   "outputs": [
    {
     "data": {
      "text/plain": [
       "'Human:What do you know about France\\nAI:Here is what I know:,\\n            Capital: Paris,\\n            Language: French,\\n            Food: Wine and Cheese,\\n            Currency: Euro,\\n\\nHuman: What do you know about Brzil'"
      ]
     },
     "execution_count": 68,
     "metadata": {},
     "output_type": "execute_result"
    }
   ],
   "execution_count": 68
  },
  {
   "metadata": {},
   "cell_type": "code",
   "outputs": [],
   "execution_count": null,
   "source": "",
   "id": "6759cae1e095d076"
  }
 ],
 "metadata": {
  "kernelspec": {
   "display_name": "Python 3",
   "language": "python",
   "name": "python3"
  },
  "language_info": {
   "codemirror_mode": {
    "name": "ipython",
    "version": 2
   },
   "file_extension": ".py",
   "mimetype": "text/x-python",
   "name": "python",
   "nbconvert_exporter": "python",
   "pygments_lexer": "ipython2",
   "version": "2.7.6"
  }
 },
 "nbformat": 4,
 "nbformat_minor": 5
}
