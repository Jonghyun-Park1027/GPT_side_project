{
 "cells": [
  {
   "cell_type": "code",
   "id": "initial_id",
   "metadata": {
    "collapsed": true,
    "ExecuteTime": {
     "end_time": "2025-07-01T12:39:46.160828Z",
     "start_time": "2025-07-01T12:39:45.310016Z"
    }
   },
   "source": [
    "from langchain_core.prompts import (\n",
    "    FewShotChatMessagePromptTemplate,\n",
    "    ChatPromptTemplate,\n",
    ")\n",
    "\n",
    "# (1) 예시 대화 정의 ─────────────────────────\n",
    "examples = [\n",
    "    {\n",
    "        \"title\": \"Inception\",\n",
    "        \"director\": \"Christopher Nolan\",\n",
    "        \"cast\": \"Leonardo DiCaprio, Joseph Gordon-Levitt, Ellen Page\",\n",
    "        \"budget\": \"$160 million\",\n",
    "        \"box_office\": \"$835 million\",\n",
    "        \"genre\": \"Science-fiction / Heist\",\n",
    "        \"synopsis\": \"A thief enters dreams to steal secrets.\"\n",
    "    },\n",
    "    {\n",
    "        \"title\": \"Parasite\",\n",
    "        \"director\": \"Bong Joon-ho\",\n",
    "        \"cast\": \"Song Kang-ho, Lee Sun-kyun, Cho Yeo-jeong\",\n",
    "        \"budget\": \"$15 million\",\n",
    "        \"box_office\": \"$263 million\",\n",
    "        \"genre\": \"Thriller / Dark comedy\",\n",
    "        \"synopsis\": \"Two families’ lives intertwine with dire consequences.\"\n",
    "    }\n",
    "]\n",
    "\n",
    "# (2) 예시를 채팅 메시지 템플릿으로 래핑 ───\n",
    "example_prompt = ChatPromptTemplate.from_messages([\n",
    "    (\"human\", \"{title}\"),\n",
    "    (\"ai\",\n",
    "     \"Director: {director}\\n\"\n",
    "     \"Cast: {cast}\\n\"\n",
    "     \"Budget: {budget}\\n\"\n",
    "     \"Box office: {box_office}\\n\"\n",
    "     \"Genre: {genre}\\n\"\n",
    "     \"Synopsis: {synopsis}\")\n",
    "])\n",
    "\n",
    "few_shot = FewShotChatMessagePromptTemplate(\n",
    "    example_prompt=example_prompt,\n",
    "    examples=examples,\n",
    ")\n",
    "\n",
    "# (3) 실제 사용자 질문을 삽입할 최종 템플릿 ─\n",
    "final_prompt = ChatPromptTemplate.from_messages([\n",
    "    *few_shot.messages,            # 위 예시가 먼저 들어감\n",
    "    (\"human\", \"{title}\")           # 실제 질문 자리\n",
    "])\n"
   ],
   "outputs": [
    {
     "ename": "AttributeError",
     "evalue": "'FewShotChatMessagePromptTemplate' object has no attribute 'messages'",
     "output_type": "error",
     "traceback": [
      "\u001B[31m---------------------------------------------------------------------------\u001B[39m",
      "\u001B[31mAttributeError\u001B[39m                            Traceback (most recent call last)",
      "\u001B[36mCell\u001B[39m\u001B[36m \u001B[39m\u001B[32mIn[1]\u001B[39m\u001B[32m, line 47\u001B[39m\n\u001B[32m     40\u001B[39m few_shot = FewShotChatMessagePromptTemplate(\n\u001B[32m     41\u001B[39m     example_prompt=example_prompt,\n\u001B[32m     42\u001B[39m     examples=examples,\n\u001B[32m     43\u001B[39m )\n\u001B[32m     45\u001B[39m \u001B[38;5;66;03m# (3) 실제 사용자 질문을 삽입할 최종 템플릿 ─\u001B[39;00m\n\u001B[32m     46\u001B[39m final_prompt = ChatPromptTemplate.from_messages([\n\u001B[32m---> \u001B[39m\u001B[32m47\u001B[39m     *few_shot.messages,            \u001B[38;5;66;03m# 위 예시가 먼저 들어감\u001B[39;00m\n\u001B[32m     48\u001B[39m     (\u001B[33m\"\u001B[39m\u001B[33mhuman\u001B[39m\u001B[33m\"\u001B[39m, \u001B[33m\"\u001B[39m\u001B[38;5;132;01m{title}\u001B[39;00m\u001B[33m\"\u001B[39m)           \u001B[38;5;66;03m# 실제 질문 자리\u001B[39;00m\n\u001B[32m     49\u001B[39m ])\n",
      "\u001B[36mFile \u001B[39m\u001B[32m~\\anaconda3\\envs\\GPT2\\Lib\\site-packages\\pydantic\\main.py:991\u001B[39m, in \u001B[36mBaseModel.__getattr__\u001B[39m\u001B[34m(self, item)\u001B[39m\n\u001B[32m    988\u001B[39m     \u001B[38;5;28;01mreturn\u001B[39;00m \u001B[38;5;28msuper\u001B[39m().\u001B[34m__getattribute__\u001B[39m(item)  \u001B[38;5;66;03m# Raises AttributeError if appropriate\u001B[39;00m\n\u001B[32m    989\u001B[39m \u001B[38;5;28;01melse\u001B[39;00m:\n\u001B[32m    990\u001B[39m     \u001B[38;5;66;03m# this is the current error\u001B[39;00m\n\u001B[32m--> \u001B[39m\u001B[32m991\u001B[39m     \u001B[38;5;28;01mraise\u001B[39;00m \u001B[38;5;167;01mAttributeError\u001B[39;00m(\u001B[33mf\u001B[39m\u001B[33m'\u001B[39m\u001B[38;5;132;01m{\u001B[39;00m\u001B[38;5;28mtype\u001B[39m(\u001B[38;5;28mself\u001B[39m).\u001B[34m__name__\u001B[39m\u001B[38;5;132;01m!r}\u001B[39;00m\u001B[33m object has no attribute \u001B[39m\u001B[38;5;132;01m{\u001B[39;00mitem\u001B[38;5;132;01m!r}\u001B[39;00m\u001B[33m'\u001B[39m)\n",
      "\u001B[31mAttributeError\u001B[39m: 'FewShotChatMessagePromptTemplate' object has no attribute 'messages'"
     ]
    }
   ],
   "execution_count": 1
  },
  {
   "metadata": {},
   "cell_type": "code",
   "outputs": [],
   "execution_count": null,
   "source": "",
   "id": "39814ed5e3ce5438"
  }
 ],
 "metadata": {
  "kernelspec": {
   "display_name": "Python 3",
   "language": "python",
   "name": "python3"
  },
  "language_info": {
   "codemirror_mode": {
    "name": "ipython",
    "version": 2
   },
   "file_extension": ".py",
   "mimetype": "text/x-python",
   "name": "python",
   "nbconvert_exporter": "python",
   "pygments_lexer": "ipython2",
   "version": "2.7.6"
  }
 },
 "nbformat": 4,
 "nbformat_minor": 5
}
