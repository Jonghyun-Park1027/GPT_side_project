{
 "cells": [
  {
   "cell_type": "code",
   "id": "initial_id",
   "metadata": {
    "collapsed": true,
    "ExecuteTime": {
     "end_time": "2025-07-01T13:56:24.064488Z",
     "start_time": "2025-07-01T13:56:23.691004Z"
    }
   },
   "source": [
    "from langchain_core.prompts import (\n",
    "    FewShotChatMessagePromptTemplate,\n",
    "    ChatPromptTemplate,\n",
    ")\n",
    "\n",
    "# (1) 예시 데이터 ───────────────────────────────\n",
    "examples = [\n",
    "    {\n",
    "        \"title\": \"Inception\",\n",
    "        \"director\": \"Christopher Nolan\",\n",
    "        \"cast\": \"Leonardo DiCaprio, Joseph Gordon-Levitt, Ellen Page\",\n",
    "        \"budget\": \"$160 million\",\n",
    "        \"box_office\": \"$835 million\",\n",
    "        \"genre\": \"Science-fiction / Heist\",\n",
    "        \"synopsis\": \"A thief enters dreams to steal secrets.\"\n",
    "    },\n",
    "    {\n",
    "        \"title\": \"Parasite\",\n",
    "        \"director\": \"Bong Joon-ho\",\n",
    "        \"cast\": \"Song Kang-ho, Lee Sun-kyun, Cho Yeo-jeong\",\n",
    "        \"budget\": \"$15 million\",\n",
    "        \"box_office\": \"$263 million\",\n",
    "        \"genre\": \"Thriller / Dark comedy\",\n",
    "        \"synopsis\": \"Two families’ lives intertwine with dire consequences.\"\n",
    "    }\n",
    "]\n",
    "\n",
    "# (2) 예시 프롬프트 템플릿 ───────────────────────\n",
    "example_prompt = ChatPromptTemplate.from_messages([\n",
    "    (\"human\", \"{title}\"),\n",
    "    (\"ai\",\n",
    "     \"Director: {director}\\n\"\n",
    "     \"Cast: {cast}\\n\"\n",
    "     \"Budget: {budget}\\n\"\n",
    "     \"Box office: {box_office}\\n\"\n",
    "     \"Genre: {genre}\\n\"\n",
    "     \"Synopsis: {synopsis}\")\n",
    "])\n",
    "\n",
    "few_shot = FewShotChatMessagePromptTemplate(\n",
    "    examples=examples,\n",
    "    example_prompt=example_prompt,\n",
    ")                                             # 예시 객체 자체를 전달 :contentReference[oaicite:2]{index=2}\n",
    "\n",
    "# (3) 사용자 입력 자리 포함 최종 프롬프트 ───────\n",
    "prompt = ChatPromptTemplate.from_messages([\n",
    "    few_shot,                                 # ← Few-Shot 예시 삽입\n",
    "    (\"human\", \"{title}\")                      # 실제 질의\n",
    "])\n"
   ],
   "outputs": [],
   "execution_count": 1
  },
  {
   "metadata": {
    "ExecuteTime": {
     "end_time": "2025-07-01T13:56:28.390907Z",
     "start_time": "2025-07-01T13:56:24.077505Z"
    }
   },
   "cell_type": "code",
   "source": [
    "from langchain_community.chat_models import ChatOpenAI\n",
    "from dotenv import load_dotenv\n",
    "load_dotenv()\n",
    "\n",
    "llm   = ChatOpenAI(model=\"gpt-4o-2024-08-06\", temperature=0.2)  # model= 또는 model_name=\n",
    "chain = prompt | llm                                        # Runnable 파이프 연산자\n",
    "\n",
    "# 테스트\n",
    "result = chain.invoke({\"title\": \"The Godfather\"})\n",
    "print(result.content)\n"
   ],
   "id": "39814ed5e3ce5438",
   "outputs": [
    {
     "name": "stderr",
     "output_type": "stream",
     "text": [
      "C:\\Users\\ppjjh\\AppData\\Local\\Temp\\ipykernel_35044\\148023030.py:5: LangChainDeprecationWarning: The class `ChatOpenAI` was deprecated in LangChain 0.0.10 and will be removed in 1.0. An updated version of the class exists in the :class:`~langchain-openai package and should be used instead. To use it run `pip install -U :class:`~langchain-openai` and import as `from :class:`~langchain_openai import ChatOpenAI``.\n",
      "  llm   = ChatOpenAI(model=\"gpt-4o-2024-08-06\", temperature=0.2)  # model= 또는 model_name=\n"
     ]
    },
    {
     "name": "stdout",
     "output_type": "stream",
     "text": [
      "Director: Francis Ford Coppola  \n",
      "Cast: Marlon Brando, Al Pacino, James Caan  \n",
      "Budget: $6–7.2 million  \n",
      "Box office: $250–291 million  \n",
      "Genre: Crime / Drama  \n",
      "Synopsis: The aging patriarch of an organized crime dynasty transfers control of his clandestine empire to his reluctant son.  \n",
      "\n",
      "\"The Godfather\" is widely regarded as one of the greatest films in cinematic history and is based on the novel by Mario Puzo. It explores themes of power, loyalty, and family within the context of the Mafia.\n"
     ]
    }
   ],
   "execution_count": 2
  },
  {
   "metadata": {},
   "cell_type": "code",
   "outputs": [],
   "execution_count": null,
   "source": "",
   "id": "cd0f98471ec4319"
  }
 ],
 "metadata": {
  "kernelspec": {
   "display_name": "Python 3",
   "language": "python",
   "name": "python3"
  },
  "language_info": {
   "codemirror_mode": {
    "name": "ipython",
    "version": 2
   },
   "file_extension": ".py",
   "mimetype": "text/x-python",
   "name": "python",
   "nbconvert_exporter": "python",
   "pygments_lexer": "ipython2",
   "version": "2.7.6"
  }
 },
 "nbformat": 4,
 "nbformat_minor": 5
}
