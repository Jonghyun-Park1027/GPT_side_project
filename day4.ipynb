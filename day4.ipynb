{
 "cells": [
  {
   "cell_type": "code",
   "id": "initial_id",
   "metadata": {
    "collapsed": true,
    "ExecuteTime": {
     "end_time": "2025-07-03T11:58:02.362087Z",
     "start_time": "2025-07-03T11:58:02.355167Z"
    }
   },
   "source": [
    "from attr.validators import max_len\n",
    "from langchain.prompts.example_selector import LengthBasedExampleSelector\n",
    "from langchain_openai import ChatOpenAI\n",
    "from langchain.prompts import ChatPromptTemplate\n",
    "from langchain.prompts.few_shot import FewShotChatMessagePromptTemplate\n",
    "from langchain.callbacks import StreamingStdOutCallbackHandler\n"
   ],
   "outputs": [],
   "execution_count": 50
  },
  {
   "metadata": {
    "ExecuteTime": {
     "end_time": "2025-07-03T09:09:47.088652Z",
     "start_time": "2025-07-03T09:09:47.084800Z"
    }
   },
   "cell_type": "code",
   "source": [
    "chat = ChatOpenAI(model_name=\"gpt-4o-2024-08-06\", streaming=True, callbacks=[StreamingStdOutCallbackHandler()])\n",
    "# temperature 등 옵션도 지정 가능"
   ],
   "id": "b5a4b005c43b2d16",
   "outputs": [],
   "execution_count": 13
  },
  {
   "metadata": {
    "ExecuteTime": {
     "end_time": "2025-07-03T09:54:20.335437Z",
     "start_time": "2025-07-03T09:54:20.332029Z"
    }
   },
   "cell_type": "code",
   "source": [
    "examples = [\n",
    "\n",
    "    {\n",
    "        \"country\": \"France\",\n",
    "        \"answer\":\n",
    "            \"\"\"Here is what I know:,\n",
    "            Capital: Paris,\n",
    "            Language: French,\n",
    "            Food: Wine and Cheese,\n",
    "            Currency: Euro,\"\"\"\n",
    "\n",
    "    },\n",
    "    {\n",
    "        \"country\": \"Italy\",\n",
    "        \"answer\":\n",
    "            \"\"\"I know this:,\n",
    "            Capital: Rome,\n",
    "            Language: Italian,\n",
    "            Food: Pizza and Pasta,\n",
    "            Currency: Euro\"\"\"\n",
    "\n",
    "    },\n",
    "    {\n",
    "        \"country\": \"Greece\",\n",
    "        \"answer\":\n",
    "            \"\"\"\n",
    "        I know this:,\n",
    "        Capital: Athens,\n",
    "        Language: Greek,\n",
    "        Food: Souvlaki and Feta Cheese,\n",
    "        Currency: Euro,\"\"\"\n",
    "\n",
    "    }\n",
    "]"
   ],
   "id": "8bfbb569ef0450ee",
   "outputs": [],
   "execution_count": 40
  },
  {
   "metadata": {
    "ExecuteTime": {
     "end_time": "2025-07-03T12:03:09.297301Z",
     "start_time": "2025-07-03T12:03:09.292829Z"
    }
   },
   "cell_type": "code",
   "source": [
    "example_prompt =ChatPromptTemplate.from_messages(\n",
    "    [\n",
    "        (\"human\", \"What do you know about {country}?\"),\n",
    "        (\"ai\", \"{answer}\")\n",
    "    ]\n",
    ")"
   ],
   "id": "94a6c6374c6f9b23",
   "outputs": [],
   "execution_count": 54
  },
  {
   "metadata": {
    "ExecuteTime": {
     "end_time": "2025-07-03T12:04:03.582126Z",
     "start_time": "2025-07-03T12:04:03.544282Z"
    }
   },
   "cell_type": "code",
   "source": [
    "example_selector = LengthBasedExampleSelector(\n",
    "    examples = examples,\n",
    "    example_prompt= example_prompt,\n",
    "    max_length = 180\n",
    ")"
   ],
   "id": "b243ad39e15e8197",
   "outputs": [
    {
     "ename": "AttributeError",
     "evalue": "'ChatPromptTemplate' object has no attribute 'get'",
     "output_type": "error",
     "traceback": [
      "\u001B[31m---------------------------------------------------------------------------\u001B[39m",
      "\u001B[31mAttributeError\u001B[39m                            Traceback (most recent call last)",
      "\u001B[36mCell\u001B[39m\u001B[36m \u001B[39m\u001B[32mIn[58]\u001B[39m\u001B[32m, line 1\u001B[39m\n\u001B[32m----> \u001B[39m\u001B[32m1\u001B[39m example_selector = LengthBasedExampleSelector(\n\u001B[32m      2\u001B[39m     examples = examples,\n\u001B[32m      3\u001B[39m     example_prompt= example_prompt,\n\u001B[32m      4\u001B[39m     max_length = \u001B[32m180\u001B[39m\n\u001B[32m      5\u001B[39m )\n",
      "    \u001B[31m[... skipping hidden 1 frame]\u001B[39m\n",
      "\u001B[36mFile \u001B[39m\u001B[32m~\\anaconda3\\envs\\GPT2\\Lib\\site-packages\\langchain_core\\prompts\\prompt.py:87\u001B[39m, in \u001B[36mPromptTemplate.pre_init_validation\u001B[39m\u001B[34m(cls, values)\u001B[39m\n\u001B[32m     83\u001B[39m \u001B[38;5;129m@model_validator\u001B[39m(mode=\u001B[33m\"\u001B[39m\u001B[33mbefore\u001B[39m\u001B[33m\"\u001B[39m)\n\u001B[32m     84\u001B[39m \u001B[38;5;129m@classmethod\u001B[39m\n\u001B[32m     85\u001B[39m \u001B[38;5;28;01mdef\u001B[39;00m\u001B[38;5;250m \u001B[39m\u001B[34mpre_init_validation\u001B[39m(\u001B[38;5;28mcls\u001B[39m, values: \u001B[38;5;28mdict\u001B[39m) -> Any:\n\u001B[32m     86\u001B[39m \u001B[38;5;250m    \u001B[39m\u001B[33;03m\"\"\"Check that template and input variables are consistent.\"\"\"\u001B[39;00m\n\u001B[32m---> \u001B[39m\u001B[32m87\u001B[39m     \u001B[38;5;28;01mif\u001B[39;00m values.get(\u001B[33m\"\u001B[39m\u001B[33mtemplate\u001B[39m\u001B[33m\"\u001B[39m) \u001B[38;5;129;01mis\u001B[39;00m \u001B[38;5;28;01mNone\u001B[39;00m:\n\u001B[32m     88\u001B[39m         \u001B[38;5;66;03m# Will let pydantic fail with a ValidationError if template\u001B[39;00m\n\u001B[32m     89\u001B[39m         \u001B[38;5;66;03m# is not provided.\u001B[39;00m\n\u001B[32m     90\u001B[39m         \u001B[38;5;28;01mreturn\u001B[39;00m values\n\u001B[32m     92\u001B[39m     \u001B[38;5;66;03m# Set some default values based on the field defaults\u001B[39;00m\n",
      "\u001B[36mFile \u001B[39m\u001B[32m~\\anaconda3\\envs\\GPT2\\Lib\\site-packages\\pydantic\\main.py:991\u001B[39m, in \u001B[36mBaseModel.__getattr__\u001B[39m\u001B[34m(self, item)\u001B[39m\n\u001B[32m    988\u001B[39m     \u001B[38;5;28;01mreturn\u001B[39;00m \u001B[38;5;28msuper\u001B[39m().\u001B[34m__getattribute__\u001B[39m(item)  \u001B[38;5;66;03m# Raises AttributeError if appropriate\u001B[39;00m\n\u001B[32m    989\u001B[39m \u001B[38;5;28;01melse\u001B[39;00m:\n\u001B[32m    990\u001B[39m     \u001B[38;5;66;03m# this is the current error\u001B[39;00m\n\u001B[32m--> \u001B[39m\u001B[32m991\u001B[39m     \u001B[38;5;28;01mraise\u001B[39;00m \u001B[38;5;167;01mAttributeError\u001B[39;00m(\u001B[33mf\u001B[39m\u001B[33m'\u001B[39m\u001B[38;5;132;01m{\u001B[39;00m\u001B[38;5;28mtype\u001B[39m(\u001B[38;5;28mself\u001B[39m).\u001B[34m__name__\u001B[39m\u001B[38;5;132;01m!r}\u001B[39;00m\u001B[33m object has no attribute \u001B[39m\u001B[38;5;132;01m{\u001B[39;00mitem\u001B[38;5;132;01m!r}\u001B[39;00m\u001B[33m'\u001B[39m)\n",
      "\u001B[31mAttributeError\u001B[39m: 'ChatPromptTemplate' object has no attribute 'get'"
     ]
    }
   ],
   "execution_count": 58
  },
  {
   "metadata": {
    "ExecuteTime": {
     "end_time": "2025-07-03T12:03:09.847239Z",
     "start_time": "2025-07-03T12:03:09.822657Z"
    }
   },
   "cell_type": "code",
   "source": [
    "prompt = FewShotChatMessagePromptTemplate(\n",
    "    example_prompt=example_prompt,\n",
    "    example_selector=example_selector,\n",
    "    suffix = \"Human: What do you know about {country}\",\n",
    "    input_variables=[\"country\"]\n",
    ")"
   ],
   "id": "f57a8f651098c3ab",
   "outputs": [
    {
     "ename": "NameError",
     "evalue": "name 'example_selector' is not defined",
     "output_type": "error",
     "traceback": [
      "\u001B[31m---------------------------------------------------------------------------\u001B[39m",
      "\u001B[31mNameError\u001B[39m                                 Traceback (most recent call last)",
      "\u001B[36mCell\u001B[39m\u001B[36m \u001B[39m\u001B[32mIn[56]\u001B[39m\u001B[32m, line 3\u001B[39m\n\u001B[32m      1\u001B[39m prompt = FewShotChatMessagePromptTemplate(\n\u001B[32m      2\u001B[39m     example_prompt=example_prompt,\n\u001B[32m----> \u001B[39m\u001B[32m3\u001B[39m     example_selector=example_selector,\n\u001B[32m      4\u001B[39m     suffix = \u001B[33m\"\u001B[39m\u001B[33mHuman: What do you know about \u001B[39m\u001B[38;5;132;01m{country}\u001B[39;00m\u001B[33m\"\u001B[39m,\n\u001B[32m      5\u001B[39m     input_variables=[\u001B[33m\"\u001B[39m\u001B[33mcountry\u001B[39m\u001B[33m\"\u001B[39m]\n\u001B[32m      6\u001B[39m )\n",
      "\u001B[31mNameError\u001B[39m: name 'example_selector' is not defined"
     ]
    }
   ],
   "execution_count": 56
  },
  {
   "metadata": {
    "ExecuteTime": {
     "end_time": "2025-07-03T12:03:37.451136Z",
     "start_time": "2025-07-03T12:03:37.446632Z"
    }
   },
   "cell_type": "code",
   "source": "prompt.format(country=\"Brzil\")",
   "id": "824d4883fc5db60a",
   "outputs": [
    {
     "data": {
      "text/plain": [
       "'Human:What do you know about France?\\nAI:Here is what I know:,\\n            Capital: Paris,\\n            Language: French,\\n            Food: Wine and Cheese,\\n            Currency: Euro,\\n\\nHuman:What do you know about Italy?\\nAI:I know this:,\\n            Capital: Rome,\\n            Language: Italian,\\n            Food: Pizza and Pasta,\\n            Currency: Euro\\n\\nHuman:What do you know about Greece?\\nAI:\\n        I know this:,\\n        Capital: Athens,\\n        Language: Greek,\\n        Food: Souvlaki and Feta Cheese,\\n        Currency: Euro,\\n\\nHuman : What do you know about Brzil'"
      ]
     },
     "execution_count": 57,
     "metadata": {},
     "output_type": "execute_result"
    }
   ],
   "execution_count": 57
  }
 ],
 "metadata": {
  "kernelspec": {
   "display_name": "Python 3",
   "language": "python",
   "name": "python3"
  },
  "language_info": {
   "codemirror_mode": {
    "name": "ipython",
    "version": 2
   },
   "file_extension": ".py",
   "mimetype": "text/x-python",
   "name": "python",
   "nbconvert_exporter": "python",
   "pygments_lexer": "ipython2",
   "version": "2.7.6"
  }
 },
 "nbformat": 4,
 "nbformat_minor": 5
}
