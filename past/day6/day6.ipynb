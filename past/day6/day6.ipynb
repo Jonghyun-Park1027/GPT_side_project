{
 "cells": [
  {
   "cell_type": "code",
   "execution_count": 2,
   "id": "325af0dd",
   "metadata": {},
   "outputs": [],
   "source": [
    "from langchain_openai import OpenAI\n",
    "from langchain_community.document_loaders import Docx2txtLoader\n"
   ]
  },
  {
   "cell_type": "code",
   "execution_count": 3,
   "id": "8e78bfaa",
   "metadata": {},
   "outputs": [],
   "source": [
    "\n",
    "loader = Docx2txtLoader(\"./chapter_one.docx\")\n",
    "\n",
    "# loader.load()"
   ]
  },
  {
   "cell_type": "code",
   "execution_count": null,
   "id": "5e9ae4f4",
   "metadata": {},
   "outputs": [],
   "source": []
  }
 ],
 "metadata": {
  "kernelspec": {
   "display_name": "GPT2",
   "language": "python",
   "name": "python3"
  },
  "language_info": {
   "codemirror_mode": {
    "name": "ipython",
    "version": 3
   },
   "file_extension": ".py",
   "mimetype": "text/x-python",
   "name": "python",
   "nbconvert_exporter": "python",
   "pygments_lexer": "ipython3",
   "version": "3.11.13"
  }
 },
 "nbformat": 4,
 "nbformat_minor": 5
}
