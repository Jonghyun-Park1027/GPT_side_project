{
 "cells": [
  {
   "cell_type": "code",
   "execution_count": 1,
   "id": "877a3455",
   "metadata": {},
   "outputs": [
    {
     "name": "stderr",
     "output_type": "stream",
     "text": [
      "C:\\Users\\ppjjh\\AppData\\Local\\Temp\\ipykernel_37648\\637473913.py:40: DeprecationWarning: The Assistants API is deprecated in favor of the Responses API\n",
      "  thread = client.beta.threads.create()\n",
      "C:\\Users\\ppjjh\\AppData\\Local\\Temp\\ipykernel_37648\\637473913.py:42: DeprecationWarning: The Assistants API is deprecated in favor of the Responses API\n",
      "  client.beta.threads.messages.create(\n",
      "C:\\Users\\ppjjh\\AppData\\Local\\Temp\\ipykernel_37648\\637473913.py:49: DeprecationWarning: The Assistants API is deprecated in favor of the Responses API\n",
      "  run = client.beta.threads.runs.create_and_poll(\n",
      "C:\\Users\\ppjjh\\AppData\\Local\\Temp\\ipykernel_37648\\637473913.py:55: DeprecationWarning: The Assistants API is deprecated in favor of the Responses API\n",
      "  for msg in reversed(client.beta.threads.messages.list(thread_id=thread.id).data):\n"
     ]
    },
    {
     "name": "stdout",
     "output_type": "stream",
     "text": [
      "1. **Aaronson의 유죄 여부**: Aaronson은 유죄로 판명되었습니다. \"...Jones, Aaronson, and Rutherford were guilty of the crimes they were charged with.\"【6:17†tmpratbbxv4.txt】.\n",
      "\n",
      "2. **Aaronson이 쓴 메시지**: Aaronson은 \"자유는 노예다\"라는 메시지를 썼습니다. 이것은 그가 쓴 문구 중 하나로 \"FREEDOM IS SLAVERY\"라고 크게 썼습니다【6:17†tmpratbbxv4.txt】.\n",
      "\n",
      "3. **Julia에 대한 정보**: Julia는 Winston의 사랑하는 사람입니다. 그녀는 Winston과의 관계에서의 배신과 그로 인해 변화한 감정에 대해 이야기합니다【6:12†tmpratbbxv4.txt】.\n"
     ]
    }
   ],
   "source": [
    "# pip install --upgrade \"openai>=1.4.0\" requests\n",
    "\n",
    "import requests, tempfile\n",
    "from openai import OpenAI\n",
    "\n",
    "client = OpenAI()                   # 키는 환경 변수에서 자동 로드\n",
    "\n",
    "QUESTIONS = [\n",
    "    \"Aaronson 은 유죄인가요?\",\n",
    "    \"그가 테이블에 어떤 메시지를 썼나요?\",\n",
    "    \"Julia 는 누구인가요?\",\n",
    "]\n",
    "\n",
    "# 1) Gist 원문을 임시 파일에 저장\n",
    "URL = \"https://gist.githubusercontent.com/serranoarevalo/5acf755c2b8d83f1707ef266b82ea223/raw/\"\n",
    "txt = requests.get(URL, timeout=30).text\n",
    "tmp = tempfile.NamedTemporaryFile(delete=False, suffix=\".txt\")\n",
    "tmp.write(txt.encode(\"utf-8\")); tmp.close()\n",
    "\n",
    "# 2) 파일 업로드 (assistants 용도)\n",
    "file = client.files.create(file=open(tmp.name, \"rb\"), purpose=\"assistants\")\n",
    "\n",
    "# 3) 벡터스토어 생성 & 파일 등록  (beta 없이)\n",
    "vs = client.vector_stores.create(name=\"aaronson_case\")\n",
    "client.vector_stores.files.create_and_poll(\n",
    "    vector_store_id=vs.id,\n",
    "    file_id=file.id\n",
    ")\n",
    "\n",
    "# 4) Assistant 생성 (File Search 도구 연결)\n",
    "assistant = client.beta.assistants.create(\n",
    "    name=\"RAG-Lite\",\n",
    "    instructions=\"근거 문장을 인용해 한국어로 간단히 답하세요.\",\n",
    "    model=\"gpt-4o-mini\",\n",
    "    tools=[{\"type\": \"file_search\"}],\n",
    "    tool_resources={\"file_search\": {\"vector_store_ids\": [vs.id]}},\n",
    ")\n",
    "\n",
    "# 5) Thread 생성 + 질문 등록\n",
    "thread = client.beta.threads.create()\n",
    "for q in QUESTIONS:\n",
    "    client.beta.threads.messages.create(\n",
    "        thread_id=thread.id,\n",
    "        role=\"user\",\n",
    "        content=q\n",
    "    )\n",
    "\n",
    "# 6) 실행 & 완료 대기\n",
    "run = client.beta.threads.runs.create_and_poll(\n",
    "    thread_id=thread.id,\n",
    "    assistant_id=assistant.id\n",
    ")\n",
    "\n",
    "# 7) 답변 출력\n",
    "for msg in reversed(client.beta.threads.messages.list(thread_id=thread.id).data):\n",
    "    if msg.role == \"assistant\":\n",
    "        print(msg.content[0].text.value)\n"
   ]
  },
  {
   "cell_type": "code",
   "execution_count": 4,
   "id": "20fdf500",
   "metadata": {},
   "outputs": [
    {
     "name": "stdout",
     "output_type": "stream",
     "text": [
      "1.93.0\n"
     ]
    }
   ],
   "source": [
    "import openai, sys\n",
    "print(openai.__version__)   # 예) '1.2.3' 처럼 출력되면 구버전\n"
   ]
  },
  {
   "cell_type": "code",
   "execution_count": null,
   "id": "0ea57725",
   "metadata": {},
   "outputs": [],
   "source": []
  }
 ],
 "metadata": {
  "kernelspec": {
   "display_name": "GPT2",
   "language": "python",
   "name": "python3"
  },
  "language_info": {
   "codemirror_mode": {
    "name": "ipython",
    "version": 3
   },
   "file_extension": ".py",
   "mimetype": "text/x-python",
   "name": "python",
   "nbconvert_exporter": "python",
   "pygments_lexer": "ipython3",
   "version": "3.11.13"
  }
 },
 "nbformat": 4,
 "nbformat_minor": 5
}
