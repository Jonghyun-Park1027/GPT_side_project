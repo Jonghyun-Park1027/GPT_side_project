{
 "cells": [
  {
   "metadata": {
    "ExecuteTime": {
     "end_time": "2025-07-01T09:03:53.565630Z",
     "start_time": "2025-07-01T09:03:53.509246Z"
    }
   },
   "cell_type": "code",
   "source": [
    "import openai\n",
    "from langchain.schema import HumanMessage, AIMessage, SystemMessage\n",
    "from langchain.chat_models import ChatOpenAI\n",
    "from langchain.prompts import PromptTemplate, ChatPromptTemplate\n",
    "# from dotenv import load_dotenv\n",
    "import os"
   ],
   "id": "92bfea5aaae94ca7",
   "outputs": [],
   "execution_count": 13
  },
  {
   "metadata": {
    "ExecuteTime": {
     "end_time": "2025-07-01T09:12:52.752318Z",
     "start_time": "2025-07-01T09:12:52.216393Z"
    }
   },
   "cell_type": "code",
   "source": "chat = ChatOpenAI(model_name=\"gpt-4o-2024-08-06\", temperature=0.1)  # temperature 등 옵션도 지정 가능",
   "id": "68fddb0614fcfce3",
   "outputs": [],
   "execution_count": 24
  },
  {
   "metadata": {
    "ExecuteTime": {
     "end_time": "2025-07-01T09:12:51.913261Z",
     "start_time": "2025-07-01T09:12:51.909799Z"
    }
   },
   "cell_type": "code",
   "outputs": [],
   "execution_count": 23,
   "source": [
    "template = PromptTemplate.from_template(\"What is the distance between {country_a} and {country_b}\")\n",
    "# chat =ChatOpenAI()\n",
    "prompt = template.format(country_a=\"Mexico\", country_b=\"Thailand\")"
   ],
   "id": "e0c333baecdd95ce"
  },
  {
   "metadata": {
    "ExecuteTime": {
     "end_time": "2025-07-01T09:13:07.639369Z",
     "start_time": "2025-07-01T09:13:03.370639Z"
    }
   },
   "cell_type": "code",
   "source": "chat.predict(prompt)",
   "id": "36586fab0f8ab055",
   "outputs": [
    {
     "name": "stderr",
     "output_type": "stream",
     "text": [
      "C:\\Users\\ppjjh\\AppData\\Local\\Temp\\ipykernel_33732\\3525043370.py:1: LangChainDeprecationWarning: The method `BaseChatModel.predict` was deprecated in langchain-core 0.1.7 and will be removed in 1.0. Use :meth:`~invoke` instead.\n",
      "  chat.predict(prompt)\n"
     ]
    },
    {
     "data": {
      "text/plain": [
       "'The distance between Mexico and Thailand varies depending on the specific locations you are considering in each country. However, if you are looking for a general idea of the distance between the two countries, you can consider the distance between their capitals, Mexico City and Bangkok. The approximate straight-line distance (as the crow flies) between Mexico City and Bangkok is about 15,000 kilometers (approximately 9,300 miles). Keep in mind that actual travel distances, such as flight paths, may be longer due to air routes and layovers.'"
      ]
     },
     "execution_count": 25,
     "metadata": {},
     "output_type": "execute_result"
    }
   ],
   "execution_count": 25
  },
  {
   "metadata": {
    "ExecuteTime": {
     "end_time": "2025-07-01T12:17:42.028076Z",
     "start_time": "2025-07-01T12:17:40.083194Z"
    }
   },
   "cell_type": "code",
   "source": [
    "# ─── 2. 프롬프트 템플릿 정의 ────────────────────────────────\n",
    "template = ChatPromptTemplate.from_messages([\n",
    "    (\"system\", \"You are a geography expert. And you only reply in {language}.\"),\n",
    "    (\"ai\", \"Ciao, mi chiamo {name}!\"),\n",
    "    (\"human\",\n",
    "     \"What is the distance between {country_a} and {country_b}? \"\n",
    "     \"Also, what is your name?\")\n",
    "])\n",
    "\n",
    "# ─── 3. 파라미터 주입해 메시지 리스트 생성 ───────────────\n",
    "messages = template.format_messages(\n",
    "    language=\"Greek\",\n",
    "    name=\"Socrates\",\n",
    "    country_a=\"Mexico\",\n",
    "    country_b=\"Thailand\",\n",
    ")\n",
    "\n",
    "# ─── 4. LLM 호출 ───────────────────────────────────────────\n",
    "# chat = ChatOpenAI(model=\"gpt-3.5-turbo\")  # model_name 대신 model 파라미터 사용\n",
    "response = chat.invoke(messages)          # invoke: List[BaseMessage] 입력\n",
    "\n",
    "print(response.content)"
   ],
   "id": "afba95d34e493723",
   "outputs": [
    {
     "name": "stdout",
     "output_type": "stream",
     "text": [
      "Η απόσταση μεταξύ του Μεξικού και της Ταϊλάνδης είναι περίπου 15,000 χιλιόμετρα, ανάλογα με τα συγκεκριμένα σημεία εκκίνησης και προορισμού. Το όνομά μου είναι Βοηθός. Πώς μπορώ να σας βοηθήσω περαιτέρω;\n"
     ]
    }
   ],
   "execution_count": 29
  },
  {
   "metadata": {
    "ExecuteTime": {
     "end_time": "2025-07-02T02:25:00.125458Z",
     "start_time": "2025-07-02T02:25:00.121566Z"
    }
   },
   "cell_type": "code",
   "source": "\n",
   "id": "330ccf890baed9ae",
   "outputs": [],
   "execution_count": 7
  },
  {
   "metadata": {},
   "cell_type": "code",
   "outputs": [],
   "execution_count": null,
   "source": "from langcha",
   "id": "8f0b448d88b77356"
  }
 ],
 "metadata": {
  "kernelspec": {
   "display_name": "Python 3",
   "language": "python",
   "name": "python3"
  },
  "language_info": {
   "codemirror_mode": {
    "name": "ipython",
    "version": 2
   },
   "file_extension": ".py",
   "mimetype": "text/x-python",
   "name": "python",
   "nbconvert_exporter": "python",
   "pygments_lexer": "ipython2",
   "version": "2.7.6"
  }
 },
 "nbformat": 4,
 "nbformat_minor": 5
}
