{
 "cells": [
  {
   "cell_type": "code",
   "execution_count": 63,
   "id": "453876d7",
   "metadata": {},
   "outputs": [
    {
     "name": "stdout",
     "output_type": "stream",
     "text": [
      "A potato is a type of root vegetable that belongs to the Solanum tuberosum species. It is a starchy, edible tuber that grows underground on the roots of the potato plant. \n",
      "\n",
      "Here are some key facts about potatoes:\n",
      "\n",
      "1. **Origin**: Potatoes are native to the Andean region of South America, where they were first domesticated around 7,000-10,000 years ago.\n",
      "2. **Nutrition**: Potatoes are rich in complex carbohydrates, fiber, and several essential nutrients like potassium, vitamin C, and iron. They are also low in fat and calories.\n",
      "3. **Types**: There are over 4,000 known varieties of potatoes, including Russet, Yukon Gold, Red Bliss, and White potatoes.\n",
      "4. **Cultivation**: Potatoes are grown in various parts of the world, with the top producing countries being China, India, and Russia.\n",
      "5. **Usage**: Potatoes can be prepared in many ways, including baking, boiling, frying, mashing, and making chips, fries, and other dishes.\n",
      "\n",
      "Potatoes are an important food source for many people around the world and are an excellent addition to a balanced diet.\n"
     ]
    }
   ],
   "source": [
    "import os\n",
    "from langchain_core.prompts import ChatPromptTemplate\n",
    "from langchain_huggingface import HuggingFaceEndpoint, ChatHuggingFace\n",
    "\n",
    "# HF 토큰 (환경변수로 미리 넣어두거나 .env + load_dotenv())\n",
    "hf_token = os.getenv(\"HF_TOKEN\")\n",
    "\n",
    "# ① 베이스 LLM\n",
    "endpoint_llm = HuggingFaceEndpoint(\n",
    "    model=\"meta-llama/Meta-Llama-3-8B-Instruct\",\n",
    "    task=\"text-generation\",                   # 채팅 모델도 text-generation 태스크 사용\n",
    "    huggingfacehub_api_token=hf_token,\n",
    "    # max_new_tokens=250,\n",
    "    temperature=0.7,\n",
    "    top_p=0.9,\n",
    ")\n",
    "\n",
    "# ② Chat 래퍼\n",
    "chat_llm = ChatHuggingFace(llm=endpoint_llm)   # ← 반드시 llm=... 로 넣어야 함 :contentReference[oaicite:0]{index=0}\n",
    "\n",
    "# ③ LCEL 파이프\n",
    "prompt = ChatPromptTemplate.from_messages([(\"\"\"<|begin_of_text|><|start_header_id|>system<|end_header_id|>\n",
    "\n",
    "Cutting Knowledge Date: December 2023\n",
    "Today Date: 23 July 2024\n",
    "\n",
    "You are a helpful assistant<|eot_id|><|start_header_id|>user<|end_header_id|>\n",
    "\n",
    "What is {word}?<|eot_id|><|start_header_id|>assistant<|end_header_id|>\"\"\")])\n",
    "chain  = prompt | chat_llm\n",
    "\n",
    "print(chain.invoke({\"word\": \"potato\"}).content)\n"
   ]
  },
  {
   "cell_type": "code",
   "execution_count": null,
   "id": "89b23032",
   "metadata": {},
   "outputs": [],
   "source": []
  }
 ],
 "metadata": {
  "kernelspec": {
   "display_name": "GPT",
   "language": "python",
   "name": "python3"
  },
  "language_info": {
   "codemirror_mode": {
    "name": "ipython",
    "version": 3
   },
   "file_extension": ".py",
   "mimetype": "text/x-python",
   "name": "python",
   "nbconvert_exporter": "python",
   "pygments_lexer": "ipython3",
   "version": "3.10.18"
  }
 },
 "nbformat": 4,
 "nbformat_minor": 5
}
