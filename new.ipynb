{
 "cells": [
  {
   "cell_type": "code",
   "id": "initial_id",
   "metadata": {
    "collapsed": true,
    "ExecuteTime": {
     "end_time": "2025-07-01T12:25:14.336659Z",
     "start_time": "2025-07-01T12:25:13.817296Z"
    }
   },
   "source": [
    "from langchain.chat_models import ChatOpenAI\n",
    "# from langchain.prompts import PromptTemplate\n",
    "from langchain.prompts.few_shot import FewShotPromptTemplate\n",
    "from langchain.callbacks import StreamingStdOutCallbackHandler\n",
    "\n"
   ],
   "outputs": [],
   "execution_count": 1
  },
  {
   "metadata": {
    "ExecuteTime": {
     "end_time": "2025-07-01T12:28:13.381359Z",
     "start_time": "2025-07-01T12:28:13.360672Z"
    }
   },
   "cell_type": "code",
   "source": [
    "\n",
    "chat = ChatOpenAI(\n",
    "    temperature=0.1,\n",
    "    streaming=True,\n",
    "    callbacks=[\n",
    "        StreamingStdOutCallbackHandler(),\n",
    "    ]\n",
    ")\n",
    "\n",
    "\n"
   ],
   "id": "7fa16bc379f636a0",
   "outputs": [
    {
     "data": {
      "text/plain": [
       "'What is the capital of France'"
      ]
     },
     "execution_count": 5,
     "metadata": {},
     "output_type": "execute_result"
    }
   ],
   "execution_count": 5
  },
  {
   "metadata": {},
   "cell_type": "code",
   "outputs": [],
   "execution_count": null,
   "source": [
    "examples =\n",
    "[\"Add commentMore actions\",\n",
    " {\n",
    "     \"question\": \"What do you know about France?\",\n",
    "     \"answer\":\n",
    "         \"\"\"Here is what I know:,\n",
    "         Capital: Paris,\n",
    "         Language: French,\n",
    "         Food: Wine and Cheese,\n",
    "         Currency: Euro,\"\"\"\n",
    "\n",
    " },\n",
    " {\n",
    "     \"question\": \"What do you know about Italy?\",\n",
    "     \"answer\":\n",
    "         \"\"\"I know this:,\n",
    "         Capital: Rome,\n",
    "         Language: Italian,\n",
    "         Food: Pizza and Pasta,\n",
    "         Currency: Euro\"\"\"\n",
    "\n",
    " },\n",
    " {\n",
    "     \"question\": \"What do you know about Greece?\",\n",
    "     \"answer\":\n",
    "         \"\"\"\n",
    "     I know this:,\n",
    "     Capital: Athens,\n",
    "     Language: Greek,\n",
    "     Food: Souvlaki and Feta Cheese,\n",
    "     Currency: Euro,\"\"\"\n",
    "\n",
    " }\n",
    " ]\n",
    "\n",
    "\n"
   ],
   "id": "414e9b3f9e427c6"
  }
 ],
 "metadata": {
  "kernelspec": {
   "display_name": "Python 3",
   "language": "python",
   "name": "python3"
  },
  "language_info": {
   "codemirror_mode": {
    "name": "ipython",
    "version": 2
   },
   "file_extension": ".py",
   "mimetype": "text/x-python",
   "name": "python",
   "nbconvert_exporter": "python",
   "pygments_lexer": "ipython2",
   "version": "2.7.6"
  }
 },
 "nbformat": 4,
 "nbformat_minor": 5
}
