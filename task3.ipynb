{
 "cells": [
  {
   "cell_type": "code",
   "execution_count": 3,
   "id": "initial_id",
   "metadata": {
    "ExecuteTime": {
     "end_time": "2025-07-03T13:22:39.870629Z",
     "start_time": "2025-07-03T13:22:39.841529Z"
    },
    "collapsed": true
   },
   "outputs": [
    {
     "name": "stdout",
     "output_type": "stream",
     "text": [
      "인셉션 ➜ 💤🌌🌀\n",
      "포레스트 검프 ➜ 🏃‍♂️🍫🌳\n",
      "처음 질문했던 영화 ➜ 당신은 \"탑건\"이라는 영화를 물어보셨습니다.\n"
     ]
    }
   ],
   "source": [
    "\"\"\"LCEL 체인 예제: 영화 제목 ➔ 세 개 이모지 변환\n",
    "\n",
    "LangChain 0.1.17+ (및 langchain-core 0.1.44+) 기준 최신 방식입니다.\n",
    "디프리케이티드된 `LLMChain` 없이 파이프(`|`) 연산자로 체인을 구성하고,\n",
    "`RunnableWithMessageHistory` 를 올바른 경로에서 import 합니다.\n",
    "\"\"\"\n",
    "\n",
    "from langchain_openai import ChatOpenAI\n",
    "from langchain.prompts import (\n",
    "    ChatPromptTemplate,\n",
    "    FewShotChatMessagePromptTemplate,\n",
    "    MessagesPlaceholder,\n",
    ")\n",
    "from langchain_core.output_parsers import StrOutputParser\n",
    "from langchain_core.runnables.history import RunnableWithMessageHistory  # ← 경로 수정\n",
    "\n",
    "# InMemoryChatMessageHistory import 경로를 최신 버전에 맞게 수정\n",
    "# langchain.memory에서 import가 안 될 경우, langchain_core.chat_history에서 import\n",
    "from langchain_core.chat_history import InMemoryChatMessageHistory\n",
    "\n",
    "# ────────────────────────────────────────────────────────────\n",
    "# 1. 예시(샷) 정의\n",
    "# ────────────────────────────────────────────────────────────\n",
    "examples = [\n",
    "    {\"movie\": \"탑건\", \"emojis\": \"🛩️👨‍✈️🔥\"},\n",
    "    {\"movie\": \"대부\", \"emojis\": \"👨‍👨‍👦🔫🍝\"},\n",
    "]\n",
    "\n",
    "example_prompt = ChatPromptTemplate.from_messages([\n",
    "    (\"human\", \"{movie}\"),\n",
    "    (\"ai\", \"{emojis}\"),\n",
    "])\n",
    "\n",
    "few_shot = FewShotChatMessagePromptTemplate(\n",
    "    example_prompt=example_prompt,\n",
    "    examples=examples,\n",
    ")\n",
    "\n",
    "# ────────────────────────────────────────────────────────────\n",
    "# 2. 전체 프롬프트\n",
    "# ────────────────────────────────────────────────────────────\n",
    "SYSTEM_MSG = (\n",
    "    \"당신은 영화 제목을 세 개의 이모지로만 변환해 주는 봇입니다. \"\n",
    "    \"반드시 3개의 이모지로 답하세요. \"\n",
    "    \"단, 사용자가 대화 내용(예: '처음에 어떤 영화를 물어봤어?')을 묻는다면 \"\n",
    "    \"한국어 문장으로 답하십시오.\"\n",
    ")\n",
    "\n",
    "prompt = ChatPromptTemplate.from_messages([\n",
    "    (\"system\", SYSTEM_MSG),\n",
    "    few_shot,                        # 예시 블록\n",
    "    MessagesPlaceholder(\"history\"), # 메모리 내용 주입\n",
    "    (\"human\", \"{movie}\"),          # 최신 사용자 입력\n",
    "])\n",
    "\n",
    "# ────────────────────────────────────────────────────────────\n",
    "# 3. LLM + 체인 (LCEL)\n",
    "# ────────────────────────────────────────────────────────────\n",
    "llm = ChatOpenAI(model=\"gpt-4o-mini\", temperature=0)\n",
    "chain = prompt | llm | StrOutputParser()\n",
    "\n",
    "# ────────────────────────────────────────────────────────────\n",
    "# 4. 메모리 래퍼: RunnableWithMessageHistory\n",
    "# ────────────────────────────────────────────────────────────\n",
    "\n",
    "def memory_factory():\n",
    "    \"\"\"세션마다 새로운 인메모리 히스토리 생성.\"\"\"\n",
    "    return InMemoryChatMessageHistory()\n",
    "\n",
    "# get_session_history 인자를 추가해야 함\n",
    "def get_session_history(session_id: str):\n",
    "    # 세션별로 메모리 객체를 생성 (간단 예시: 매번 새로 생성)\n",
    "    return InMemoryChatMessageHistory()\n",
    "\n",
    "chain_with_memory = RunnableWithMessageHistory(\n",
    "    chain,\n",
    "    get_session_history=get_session_history,  # 필수 인자 추가\n",
    "    input_messages_key=\"movie\",      # 사용자 입력 key\n",
    "    history_messages_key=\"history\",  # MessagesPlaceholder key\n",
    ")\n",
    "\n",
    "# ────────────────────────────────────────────────────────────\n",
    "# 5. DEMO 실행 예시\n",
    "# ────────────────────────────────────────────────────────────\n",
    "if __name__ == \"__main__\":\n",
    "    session_cfg = {\"configurable\": {\"session_id\": \"demo\"}}\n",
    "\n",
    "    print(\"인셉션 ➜\", chain_with_memory.invoke({\"movie\": \"인셉션\"}, config=session_cfg))\n",
    "    print(\"포레스트 검프 ➜\", chain_with_memory.invoke({\"movie\": \"포레스트 검프\"}, config=session_cfg))\n",
    "    print(\"처음 질문했던 영화 ➜\", chain_with_memory.invoke({\"movie\": \"처음에 내가 어떤 영화를 물어봤는지 알려줘\"}, config=session_cfg))\n"
   ]
  },
  {
   "cell_type": "code",
   "execution_count": null,
   "id": "f732af99337d04b",
   "metadata": {},
   "outputs": [],
   "source": []
  }
 ],
 "metadata": {
  "kernelspec": {
   "display_name": "GPT2",
   "language": "python",
   "name": "python3"
  },
  "language_info": {
   "codemirror_mode": {
    "name": "ipython",
    "version": 3
   },
   "file_extension": ".py",
   "mimetype": "text/x-python",
   "name": "python",
   "nbconvert_exporter": "python",
   "pygments_lexer": "ipython3",
   "version": "3.11.13"
  }
 },
 "nbformat": 4,
 "nbformat_minor": 5
}
