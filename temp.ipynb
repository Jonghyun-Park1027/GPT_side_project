{
 "cells": [
  {
   "cell_type": "code",
   "execution_count": 1,
   "id": "5b16f80a",
   "metadata": {},
   "outputs": [],
   "source": [
    "from langchain_openai import ChatOpenAI\n",
    "from langchain.prompts import PromptTemplate"
   ]
  },
  {
   "cell_type": "code",
   "execution_count": 27,
   "id": "163adc3b",
   "metadata": {},
   "outputs": [],
   "source": [
    "def get_weather(lon, lat):\n",
    "    print(\"call an api...\")\n",
    "\n",
    "    function = {\n",
    "        \"name\" : \"get_weather\",\n",
    "        \"description\":\"function that takes longitude and latitude to find the weather of a place\",\n",
    "        \"parameters\" :{\n",
    "            \"type\" : \"object\",\n",
    "            \"properties\":{\n",
    "                \"lon\" :{\n",
    "                    \"type\" :\"float\",\n",
    "                    \"description\":\"The longitude coordinate\"\n",
    "                },\n",
    "                \"lat\" :{\n",
    "                    \"type\" : \"float\", \n",
    "                    \"description\" : \"The latitude coordinate\"\n",
    "                },\n",
    "            },\n",
    "        },\n",
    "        \"required\" : [\"lon\", \"lat\"],\n",
    "    }"
   ]
  },
  {
   "cell_type": "code",
   "execution_count": 28,
   "id": "884eda3f",
   "metadata": {},
   "outputs": [],
   "source": [
    "llm = ChatOpenAI(temperature= 0.1).bind(\n",
    "    function_call = {\n",
    "        \"name\":\"get_weather\"\n",
    "    },\n",
    "    functions = [function]\n",
    ")\n",
    "prompt = PromptTemplate.from_template(\"Who is the weather in {city}\")"
   ]
  },
  {
   "cell_type": "code",
   "execution_count": 29,
   "id": "c3ecd670",
   "metadata": {},
   "outputs": [],
   "source": [
    "chain = prompt | llm"
   ]
  },
  {
   "cell_type": "code",
   "execution_count": 30,
   "id": "49ab372e",
   "metadata": {},
   "outputs": [],
   "source": [
    "response = chain.invoke({\n",
    "    \"city\":\"rome\"\n",
    "})\n",
    "response = response.additional_kwargs[\"function_call\"][\"arguments\"]"
   ]
  },
  {
   "cell_type": "code",
   "execution_count": 31,
   "id": "3c1c96e3",
   "metadata": {},
   "outputs": [],
   "source": [
    "import json\n",
    "r= json.loads(response)"
   ]
  },
  {
   "cell_type": "code",
   "execution_count": 32,
   "id": "23da3e25",
   "metadata": {},
   "outputs": [
    {
     "data": {
      "text/plain": [
       "'{\"lon\":\"12.4964\",\"lat\":\"41.9028\"}'"
      ]
     },
     "execution_count": 32,
     "metadata": {},
     "output_type": "execute_result"
    }
   ],
   "source": [
    "response"
   ]
  },
  {
   "cell_type": "code",
   "execution_count": 33,
   "id": "e9119625",
   "metadata": {},
   "outputs": [
    {
     "data": {
      "text/plain": [
       "{'lon': '12.4964', 'lat': '41.9028'}"
      ]
     },
     "execution_count": 33,
     "metadata": {},
     "output_type": "execute_result"
    }
   ],
   "source": [
    "r"
   ]
  },
  {
   "cell_type": "code",
   "execution_count": 34,
   "id": "89b9ced3",
   "metadata": {},
   "outputs": [
    {
     "data": {
      "text/plain": [
       "'12.4964'"
      ]
     },
     "execution_count": 34,
     "metadata": {},
     "output_type": "execute_result"
    }
   ],
   "source": [
    "r[\"lon\"]"
   ]
  },
  {
   "cell_type": "code",
   "execution_count": 35,
   "id": "404b145e",
   "metadata": {},
   "outputs": [
    {
     "data": {
      "text/plain": [
       "'41.9028'"
      ]
     },
     "execution_count": 35,
     "metadata": {},
     "output_type": "execute_result"
    }
   ],
   "source": [
    "r[\"lat\"]"
   ]
  },
  {
   "cell_type": "code",
   "execution_count": null,
   "id": "9bb9dd22",
   "metadata": {},
   "outputs": [],
   "source": []
  }
 ],
 "metadata": {
  "kernelspec": {
   "display_name": "GPT",
   "language": "python",
   "name": "python3"
  },
  "language_info": {
   "codemirror_mode": {
    "name": "ipython",
    "version": 3
   },
   "file_extension": ".py",
   "mimetype": "text/x-python",
   "name": "python",
   "nbconvert_exporter": "python",
   "pygments_lexer": "ipython3",
   "version": "3.10.18"
  }
 },
 "nbformat": 4,
 "nbformat_minor": 5
}
